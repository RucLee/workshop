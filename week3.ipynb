{
 "cells": [
  {
   "cell_type": "code",
   "execution_count": 1,
   "metadata": {
    "collapsed": true
   },
   "outputs": [],
   "source": [
    "%matplotlib inline\n",
    "import matplotlib.pyplot as plt\n",
    "import tensorflow as tf\n",
    "import numpy as np\n",
    "import math"
   ]
  },
  {
   "cell_type": "markdown",
   "metadata": {},
   "source": [
    "## Jupyter 的魔法函数"
   ]
  },
  {
   "cell_type": "code",
   "execution_count": 3,
   "metadata": {},
   "outputs": [
    {
     "name": "stdout",
     "output_type": "stream",
     "text": [
      "total 2336\r\n",
      "drwxr-xr-x  16 yuchen  staff     512 Oct 26 10:23 \u001b[34m.\u001b[m\u001b[m/\r\n",
      "drwxr-xr-x  25 yuchen  staff     800 Oct 19 23:14 \u001b[34m..\u001b[m\u001b[m/\r\n",
      "-rw-r--r--@  1 yuchen  staff   10244 Oct 26 15:04 .DS_Store\r\n",
      "drwxr-xr-x  12 yuchen  staff     384 Oct 26 15:25 \u001b[34m.git\u001b[m\u001b[m/\r\n",
      "-rw-r--r--   1 yuchen  staff      34 Oct 25 10:02 .gitignore\r\n",
      "drwxr-xr-x   4 yuchen  staff     128 Oct 26 09:55 \u001b[34m.ipynb_checkpoints\u001b[m\u001b[m/\r\n",
      "-rw-r--r--   1 yuchen  staff       9 Oct 19 11:34 README.md\r\n",
      "drwxr-xr-x   3 yuchen  staff      96 Oct 26 09:56 \u001b[34mdata\u001b[m\u001b[m/\r\n",
      "drwxr-xr-x  56 yuchen  staff    1792 Oct 12 11:37 \u001b[34msources\u001b[m\u001b[m/\r\n",
      "drwxr-xr-x@ 16 yuchen  staff     512 Oct 26 10:22 \u001b[34msources2\u001b[m\u001b[m/\r\n",
      "-rw-r--r--   1 yuchen  staff    8738 Oct 12 11:37 week1part1.ipynb\r\n",
      "-rw-r--r--   1 yuchen  staff  165124 Oct 19 13:44 week1part2.ipynb\r\n",
      "-rw-r--r--   1 yuchen  staff  716187 Oct 13 10:09 week1part3.ipynb\r\n",
      "-rw-r--r--   1 yuchen  staff    6044 Oct 19 15:05 week2part1.ipynb\r\n",
      "-rw-r--r--   1 yuchen  staff  136822 Oct 25 10:02 week2part2.ipynb\r\n",
      "-rw-r--r--   1 yuchen  staff  129570 Oct 26 10:23 week3.ipynb\r\n"
     ]
    }
   ],
   "source": [
    "%ls -la"
   ]
  },
  {
   "cell_type": "code",
   "execution_count": 6,
   "metadata": {},
   "outputs": [
    {
     "name": "stdout",
     "output_type": "stream",
     "text": [
      "WARNING:tensorflow:From <ipython-input-6-1bf216ac3f0e>:2: read_data_sets (from tensorflow.contrib.learn.python.learn.datasets.mnist) is deprecated and will be removed in a future version.\n",
      "Instructions for updating:\n",
      "Please use alternatives such as official/mnist/dataset.py from tensorflow/models.\n",
      "WARNING:tensorflow:From /Users/yuchen/anaconda3/lib/python3.6/site-packages/tensorflow/contrib/learn/python/learn/datasets/mnist.py:260: maybe_download (from tensorflow.contrib.learn.python.learn.datasets.base) is deprecated and will be removed in a future version.\n",
      "Instructions for updating:\n",
      "Please write your own downloading logic.\n",
      "WARNING:tensorflow:From /Users/yuchen/anaconda3/lib/python3.6/site-packages/tensorflow/contrib/learn/python/learn/datasets/mnist.py:262: extract_images (from tensorflow.contrib.learn.python.learn.datasets.mnist) is deprecated and will be removed in a future version.\n",
      "Instructions for updating:\n",
      "Please use tf.data to implement this functionality.\n",
      "Extracting data/MNIST/train-images-idx3-ubyte.gz\n",
      "WARNING:tensorflow:From /Users/yuchen/anaconda3/lib/python3.6/site-packages/tensorflow/contrib/learn/python/learn/datasets/mnist.py:267: extract_labels (from tensorflow.contrib.learn.python.learn.datasets.mnist) is deprecated and will be removed in a future version.\n",
      "Instructions for updating:\n",
      "Please use tf.data to implement this functionality.\n",
      "Extracting data/MNIST/train-labels-idx1-ubyte.gz\n",
      "Extracting data/MNIST/t10k-images-idx3-ubyte.gz\n",
      "Extracting data/MNIST/t10k-labels-idx1-ubyte.gz\n",
      "WARNING:tensorflow:From /Users/yuchen/anaconda3/lib/python3.6/site-packages/tensorflow/contrib/learn/python/learn/datasets/mnist.py:290: DataSet.__init__ (from tensorflow.contrib.learn.python.learn.datasets.mnist) is deprecated and will be removed in a future version.\n",
      "Instructions for updating:\n",
      "Please use alternatives such as official/mnist/dataset.py from tensorflow/models.\n"
     ]
    }
   ],
   "source": [
    "from tensorflow.examples.tutorials.mnist import input_data\n",
    "data = input_data.read_data_sets(\"data/MNIST/\", one_hot=False)"
   ]
  },
  {
   "cell_type": "code",
   "execution_count": 5,
   "metadata": {},
   "outputs": [
    {
     "name": "stdout",
     "output_type": "stream",
     "text": [
      "t10k-images-idx3-ubyte.gz   train-images-idx3-ubyte.gz\r\n",
      "t10k-labels-idx1-ubyte.gz   train-labels-idx1-ubyte.gz\r\n"
     ]
    }
   ],
   "source": [
    "%ls data/MNIST/"
   ]
  },
  {
   "cell_type": "markdown",
   "metadata": {},
   "source": [
    "## 使用numpy数据结构\n",
    "\n",
    "\n",
    "https://hrvip.ucdavis.edu/share/SS2015/ipynb/NumPy%20Tutorial.pdf"
   ]
  },
  {
   "cell_type": "code",
   "execution_count": 17,
   "metadata": {},
   "outputs": [
    {
     "data": {
      "text/plain": [
       "array([[0., 0., 0., ..., 0., 0., 0.],\n",
       "       [0., 0., 0., ..., 0., 0., 0.],\n",
       "       [0., 0., 0., ..., 0., 0., 0.],\n",
       "       ...,\n",
       "       [0., 0., 0., ..., 0., 0., 0.],\n",
       "       [0., 0., 0., ..., 0., 0., 0.],\n",
       "       [0., 0., 0., ..., 0., 0., 0.]], dtype=float32)"
      ]
     },
     "execution_count": 17,
     "metadata": {},
     "output_type": "execute_result"
    }
   ],
   "source": [
    "data.train.images"
   ]
  },
  {
   "cell_type": "code",
   "execution_count": 23,
   "metadata": {},
   "outputs": [
    {
     "data": {
      "text/plain": [
       "array([[0.        , 0.        , 0.        , 0.        , 0.        ,\n",
       "        0.        , 0.        , 0.        , 0.        , 0.        ,\n",
       "        0.        , 0.        , 0.        , 0.        , 0.        ,\n",
       "        0.        , 0.        , 0.        , 0.        , 0.        ,\n",
       "        0.        , 0.        , 0.        , 0.        , 0.        ,\n",
       "        0.        , 0.        , 0.        ],\n",
       "       [0.        , 0.        , 0.        , 0.        , 0.        ,\n",
       "        0.        , 0.        , 0.        , 0.        , 0.        ,\n",
       "        0.        , 0.        , 0.        , 0.        , 0.        ,\n",
       "        0.        , 0.        , 0.        , 0.        , 0.        ,\n",
       "        0.        , 0.        , 0.        , 0.        , 0.        ,\n",
       "        0.        , 0.        , 0.        ],\n",
       "       [0.        , 0.        , 0.        , 0.        , 0.        ,\n",
       "        0.        , 0.        , 0.        , 0.        , 0.        ,\n",
       "        0.        , 0.        , 0.        , 0.        , 0.        ,\n",
       "        0.        , 0.        , 0.        , 0.        , 0.        ,\n",
       "        0.        , 0.        , 0.        , 0.        , 0.        ,\n",
       "        0.        , 0.        , 0.        ],\n",
       "       [0.        , 0.        , 0.        , 0.        , 0.        ,\n",
       "        0.        , 0.        , 0.        , 0.        , 0.        ,\n",
       "        0.        , 0.        , 0.        , 0.        , 0.        ,\n",
       "        0.        , 0.        , 0.        , 0.        , 0.        ,\n",
       "        0.        , 0.        , 0.        , 0.        , 0.        ,\n",
       "        0.        , 0.        , 0.        ],\n",
       "       [0.        , 0.        , 0.        , 0.        , 0.        ,\n",
       "        0.        , 0.        , 0.        , 0.        , 0.        ,\n",
       "        0.        , 0.        , 0.        , 0.        , 0.        ,\n",
       "        0.        , 0.        , 0.        , 0.        , 0.        ,\n",
       "        0.        , 0.        , 0.        , 0.        , 0.        ,\n",
       "        0.        , 0.        , 0.        ],\n",
       "       [0.        , 0.        , 0.        , 0.        , 0.        ,\n",
       "        0.        , 0.        , 0.        , 0.        , 0.        ,\n",
       "        0.        , 0.        , 0.        , 0.        , 0.        ,\n",
       "        0.        , 0.        , 0.        , 0.        , 0.        ,\n",
       "        0.        , 0.        , 0.        , 0.        , 0.        ,\n",
       "        0.        , 0.        , 0.        ],\n",
       "       [0.        , 0.        , 0.        , 0.        , 0.        ,\n",
       "        0.        , 0.        , 0.        , 0.        , 0.        ,\n",
       "        0.        , 0.        , 0.        , 0.        , 0.        ,\n",
       "        0.        , 0.        , 0.        , 0.        , 0.        ,\n",
       "        0.        , 0.        , 0.        , 0.        , 0.        ,\n",
       "        0.        , 0.        , 0.        ],\n",
       "       [0.        , 0.        , 0.        , 0.        , 0.        ,\n",
       "        0.        , 0.        , 0.        , 0.        , 0.        ,\n",
       "        0.        , 0.3803922 , 0.37647063, 0.3019608 , 0.46274513,\n",
       "        0.2392157 , 0.        , 0.        , 0.        , 0.        ,\n",
       "        0.        , 0.        , 0.        , 0.        , 0.        ,\n",
       "        0.        , 0.        , 0.        ],\n",
       "       [0.        , 0.        , 0.        , 0.3529412 , 0.5411765 ,\n",
       "        0.9215687 , 0.9215687 , 0.9215687 , 0.9215687 , 0.9215687 ,\n",
       "        0.9215687 , 0.9843138 , 0.9843138 , 0.9725491 , 0.9960785 ,\n",
       "        0.9607844 , 0.9215687 , 0.74509805, 0.08235294, 0.        ,\n",
       "        0.        , 0.        , 0.        , 0.        , 0.        ,\n",
       "        0.        , 0.        , 0.        ],\n",
       "       [0.        , 0.        , 0.54901963, 0.9843138 , 0.9960785 ,\n",
       "        0.9960785 , 0.9960785 , 0.9960785 , 0.9960785 , 0.9960785 ,\n",
       "        0.9960785 , 0.9960785 , 0.9960785 , 0.9960785 , 0.9960785 ,\n",
       "        0.9960785 , 0.9960785 , 0.9960785 , 0.7411765 , 0.09019608,\n",
       "        0.        , 0.        , 0.        , 0.        , 0.        ,\n",
       "        0.        , 0.        , 0.        ],\n",
       "       [0.        , 0.        , 0.8862746 , 0.9960785 , 0.81568635,\n",
       "        0.7803922 , 0.7803922 , 0.7803922 , 0.7803922 , 0.54509807,\n",
       "        0.2392157 , 0.2392157 , 0.2392157 , 0.2392157 , 0.2392157 ,\n",
       "        0.5019608 , 0.8705883 , 0.9960785 , 0.9960785 , 0.7411765 ,\n",
       "        0.08235294, 0.        , 0.        , 0.        , 0.        ,\n",
       "        0.        , 0.        , 0.        ],\n",
       "       [0.        , 0.        , 0.14901961, 0.32156864, 0.0509804 ,\n",
       "        0.        , 0.        , 0.        , 0.        , 0.        ,\n",
       "        0.        , 0.        , 0.        , 0.        , 0.        ,\n",
       "        0.        , 0.13333334, 0.8352942 , 0.9960785 , 0.9960785 ,\n",
       "        0.45098042, 0.        , 0.        , 0.        , 0.        ,\n",
       "        0.        , 0.        , 0.        ],\n",
       "       [0.        , 0.        , 0.        , 0.        , 0.        ,\n",
       "        0.        , 0.        , 0.        , 0.        , 0.        ,\n",
       "        0.        , 0.        , 0.        , 0.        , 0.        ,\n",
       "        0.        , 0.        , 0.32941177, 0.9960785 , 0.9960785 ,\n",
       "        0.9176471 , 0.        , 0.        , 0.        , 0.        ,\n",
       "        0.        , 0.        , 0.        ],\n",
       "       [0.        , 0.        , 0.        , 0.        , 0.        ,\n",
       "        0.        , 0.        , 0.        , 0.        , 0.        ,\n",
       "        0.        , 0.        , 0.        , 0.        , 0.        ,\n",
       "        0.        , 0.        , 0.32941177, 0.9960785 , 0.9960785 ,\n",
       "        0.9176471 , 0.        , 0.        , 0.        , 0.        ,\n",
       "        0.        , 0.        , 0.        ],\n",
       "       [0.        , 0.        , 0.        , 0.        , 0.        ,\n",
       "        0.        , 0.        , 0.        , 0.        , 0.        ,\n",
       "        0.        , 0.        , 0.        , 0.        , 0.        ,\n",
       "        0.        , 0.4156863 , 0.6156863 , 0.9960785 , 0.9960785 ,\n",
       "        0.95294124, 0.20000002, 0.        , 0.        , 0.        ,\n",
       "        0.        , 0.        , 0.        ],\n",
       "       [0.        , 0.        , 0.        , 0.        , 0.        ,\n",
       "        0.        , 0.        , 0.        , 0.        , 0.        ,\n",
       "        0.        , 0.09803922, 0.45882356, 0.8941177 , 0.8941177 ,\n",
       "        0.8941177 , 0.9921569 , 0.9960785 , 0.9960785 , 0.9960785 ,\n",
       "        0.9960785 , 0.94117653, 0.        , 0.        , 0.        ,\n",
       "        0.        , 0.        , 0.        ],\n",
       "       [0.        , 0.        , 0.        , 0.        , 0.        ,\n",
       "        0.        , 0.        , 0.        , 0.        , 0.26666668,\n",
       "        0.4666667 , 0.86274517, 0.9960785 , 0.9960785 , 0.9960785 ,\n",
       "        0.9960785 , 0.9960785 , 0.9960785 , 0.9960785 , 0.9960785 ,\n",
       "        0.9960785 , 0.5568628 , 0.        , 0.        , 0.        ,\n",
       "        0.        , 0.        , 0.        ],\n",
       "       [0.        , 0.        , 0.        , 0.        , 0.        ,\n",
       "        0.        , 0.        , 0.14509805, 0.73333335, 0.9921569 ,\n",
       "        0.9960785 , 0.9960785 , 0.9960785 , 0.8745099 , 0.8078432 ,\n",
       "        0.8078432 , 0.29411766, 0.26666668, 0.8431373 , 0.9960785 ,\n",
       "        0.9960785 , 0.45882356, 0.        , 0.        , 0.        ,\n",
       "        0.        , 0.        , 0.        ],\n",
       "       [0.        , 0.        , 0.        , 0.        , 0.        ,\n",
       "        0.        , 0.4431373 , 0.8588236 , 0.9960785 , 0.9490197 ,\n",
       "        0.89019614, 0.45098042, 0.34901962, 0.12156864, 0.        ,\n",
       "        0.        , 0.        , 0.        , 0.7843138 , 0.9960785 ,\n",
       "        0.9450981 , 0.16078432, 0.        , 0.        , 0.        ,\n",
       "        0.        , 0.        , 0.        ],\n",
       "       [0.        , 0.        , 0.        , 0.        , 0.        ,\n",
       "        0.        , 0.6627451 , 0.9960785 , 0.6901961 , 0.24313727,\n",
       "        0.        , 0.        , 0.        , 0.        , 0.        ,\n",
       "        0.        , 0.        , 0.18823531, 0.9058824 , 0.9960785 ,\n",
       "        0.9176471 , 0.        , 0.        , 0.        , 0.        ,\n",
       "        0.        , 0.        , 0.        ],\n",
       "       [0.        , 0.        , 0.        , 0.        , 0.        ,\n",
       "        0.        , 0.07058824, 0.48627454, 0.        , 0.        ,\n",
       "        0.        , 0.        , 0.        , 0.        , 0.        ,\n",
       "        0.        , 0.        , 0.32941177, 0.9960785 , 0.9960785 ,\n",
       "        0.6509804 , 0.        , 0.        , 0.        , 0.        ,\n",
       "        0.        , 0.        , 0.        ],\n",
       "       [0.        , 0.        , 0.        , 0.        , 0.        ,\n",
       "        0.        , 0.        , 0.        , 0.        , 0.        ,\n",
       "        0.        , 0.        , 0.        , 0.        , 0.        ,\n",
       "        0.        , 0.        , 0.54509807, 0.9960785 , 0.9333334 ,\n",
       "        0.22352943, 0.        , 0.        , 0.        , 0.        ,\n",
       "        0.        , 0.        , 0.        ],\n",
       "       [0.        , 0.        , 0.        , 0.        , 0.        ,\n",
       "        0.        , 0.        , 0.        , 0.        , 0.        ,\n",
       "        0.        , 0.        , 0.        , 0.        , 0.        ,\n",
       "        0.        , 0.8235295 , 0.9803922 , 0.9960785 , 0.65882355,\n",
       "        0.        , 0.        , 0.        , 0.        , 0.        ,\n",
       "        0.        , 0.        , 0.        ],\n",
       "       [0.        , 0.        , 0.        , 0.        , 0.        ,\n",
       "        0.        , 0.        , 0.        , 0.        , 0.        ,\n",
       "        0.        , 0.        , 0.        , 0.        , 0.        ,\n",
       "        0.        , 0.9490197 , 0.9960785 , 0.93725497, 0.22352943,\n",
       "        0.        , 0.        , 0.        , 0.        , 0.        ,\n",
       "        0.        , 0.        , 0.        ],\n",
       "       [0.        , 0.        , 0.        , 0.        , 0.        ,\n",
       "        0.        , 0.        , 0.        , 0.        , 0.        ,\n",
       "        0.        , 0.        , 0.        , 0.        , 0.        ,\n",
       "        0.34901962, 0.9843138 , 0.9450981 , 0.3372549 , 0.        ,\n",
       "        0.        , 0.        , 0.        , 0.        , 0.        ,\n",
       "        0.        , 0.        , 0.        ],\n",
       "       [0.        , 0.        , 0.        , 0.        , 0.        ,\n",
       "        0.        , 0.        , 0.        , 0.        , 0.        ,\n",
       "        0.        , 0.        , 0.        , 0.        , 0.01960784,\n",
       "        0.8078432 , 0.96470594, 0.6156863 , 0.        , 0.        ,\n",
       "        0.        , 0.        , 0.        , 0.        , 0.        ,\n",
       "        0.        , 0.        , 0.        ],\n",
       "       [0.        , 0.        , 0.        , 0.        , 0.        ,\n",
       "        0.        , 0.        , 0.        , 0.        , 0.        ,\n",
       "        0.        , 0.        , 0.        , 0.        , 0.01568628,\n",
       "        0.45882356, 0.27058825, 0.        , 0.        , 0.        ,\n",
       "        0.        , 0.        , 0.        , 0.        , 0.        ,\n",
       "        0.        , 0.        , 0.        ],\n",
       "       [0.        , 0.        , 0.        , 0.        , 0.        ,\n",
       "        0.        , 0.        , 0.        , 0.        , 0.        ,\n",
       "        0.        , 0.        , 0.        , 0.        , 0.        ,\n",
       "        0.        , 0.        , 0.        , 0.        , 0.        ,\n",
       "        0.        , 0.        , 0.        , 0.        , 0.        ,\n",
       "        0.        , 0.        , 0.        ]], dtype=float32)"
      ]
     },
     "execution_count": 23,
     "metadata": {},
     "output_type": "execute_result"
    }
   ],
   "source": [
    "data.train.images[0,:].reshape((28,28))"
   ]
  },
  {
   "cell_type": "code",
   "execution_count": 25,
   "metadata": {},
   "outputs": [
    {
     "data": {
      "text/plain": [
       "<matplotlib.image.AxesImage at 0x1c2a0f8898>"
      ]
     },
     "execution_count": 25,
     "metadata": {},
     "output_type": "execute_result"
    },
    {
     "data": {
      "image/png": "[encoded data removed]",
      "text/plain": [
       "<matplotlib.figure.Figure at 0x1c29fc2128>"
      ]
     },
     "metadata": {},
     "output_type": "display_data"
    }
   ],
   "source": [
    "plt.imshow(data.train.images[22].reshape((28,28)), cmap='binary')"
   ]
  },
  {
   "cell_type": "markdown",
   "metadata": {},
   "source": [
    "# Tensorflow 导入设置"
   ]
  },
  {
   "cell_type": "code",
   "execution_count": 38,
   "metadata": {
    "collapsed": true
   },
   "outputs": [],
   "source": [
    "import tensorflow as tf \n",
    "import keras.backend.tensorflow_backend as K\n",
    "config = tf.ConfigProto() \n",
    "config.gpu_options.allow_growth=True #不全部占满显存, 按需分配 \n",
    "session = tf.Session(config=config) # 设置session \n",
    "K.set_session(session)"
   ]
  },
  {
   "cell_type": "code",
   "execution_count": null,
   "metadata": {
    "collapsed": true
   },
   "outputs": [],
   "source": [
    "sess = session"
   ]
  },
  {
   "cell_type": "code",
   "execution_count": 39,
   "metadata": {
    "collapsed": true
   },
   "outputs": [],
   "source": [
    "from keras.layers import Dense"
   ]
  },
  {
   "cell_type": "markdown",
   "metadata": {},
   "source": [
    "# 阅读TF文档\n",
    "\n",
    "https://www.tensorflow.org/api_docs/python/"
   ]
  },
  {
   "cell_type": "markdown",
   "metadata": {},
   "source": [
    "## 需要浏览的文档包括\n",
    "\n",
    "### Session\n",
    "\n",
    "https://www.tensorflow.org/api_docs/python/tf/Session\n",
    "\n",
    "\n",
    "### Layers\n",
    "\n",
    "https://www.tensorflow.org/api_docs/python/tf/layers\n",
    "\n",
    "\n",
    "### Keras Layers\n",
    "\n",
    "https://www.tensorflow.org/api_docs/python/tf/keras/layers\n",
    "\n",
    "\n",
    "### Keras Losses\n",
    "\n",
    "https://www.tensorflow.org/api_docs/python/tf/keras/losses\n",
    "\n",
    "\n",
    "### Keras metrics\n",
    "\n",
    "https://www.tensorflow.org/api_docs/python/tf/keras/metrics\n",
    "\n",
    "### Keras optimizers\n",
    "\n",
    "https://www.tensorflow.org/api_docs/python/tf/keras/optimizers\n",
    "\n",
    "\n",
    "### Keras Sequential Model\n",
    "\n",
    "https://www.tensorflow.org/api_docs/python/tf/keras/models/Sequential"
   ]
  },
  {
   "cell_type": "markdown",
   "metadata": {},
   "source": [
    "<img src=\"./sources2/Dense_K.png\" alt=\"drawing\" width=\"500\"/>"
   ]
  },
  {
   "cell_type": "code",
   "execution_count": 28,
   "metadata": {},
   "outputs": [
    {
     "ename": "NameError",
     "evalue": "name 'Sequential' is not defined",
     "output_type": "error",
     "traceback": [
      "\u001b[0;31m---------------------------------------------------------------------------\u001b[0m",
      "\u001b[0;31mNameError\u001b[0m                                 Traceback (most recent call last)",
      "\u001b[0;32m<ipython-input-28-ed81b586e1e6>\u001b[0m in \u001b[0;36m<module>\u001b[0;34m()\u001b[0m\n\u001b[1;32m      1\u001b[0m \u001b[0;31m# as first layer in a sequential model:\u001b[0m\u001b[0;34m\u001b[0m\u001b[0;34m\u001b[0m\u001b[0m\n\u001b[0;32m----> 2\u001b[0;31m \u001b[0mmodel\u001b[0m \u001b[0;34m=\u001b[0m \u001b[0mSequential\u001b[0m\u001b[0;34m(\u001b[0m\u001b[0;34m)\u001b[0m\u001b[0;34m\u001b[0m\u001b[0m\n\u001b[0m\u001b[1;32m      3\u001b[0m \u001b[0mmodel\u001b[0m\u001b[0;34m.\u001b[0m\u001b[0madd\u001b[0m\u001b[0;34m(\u001b[0m\u001b[0mDense\u001b[0m\u001b[0;34m(\u001b[0m\u001b[0;36m32\u001b[0m\u001b[0;34m,\u001b[0m \u001b[0minput_shape\u001b[0m\u001b[0;34m=\u001b[0m\u001b[0;34m(\u001b[0m\u001b[0;36m16\u001b[0m\u001b[0;34m,\u001b[0m\u001b[0;34m)\u001b[0m\u001b[0;34m)\u001b[0m\u001b[0;34m)\u001b[0m\u001b[0;34m\u001b[0m\u001b[0m\n\u001b[1;32m      4\u001b[0m \u001b[0;31m# now the model will take as input arrays of shape (*, 16)\u001b[0m\u001b[0;34m\u001b[0m\u001b[0;34m\u001b[0m\u001b[0m\n\u001b[1;32m      5\u001b[0m \u001b[0;31m# and output arrays of shape (*, 32)\u001b[0m\u001b[0;34m\u001b[0m\u001b[0;34m\u001b[0m\u001b[0m\n",
      "\u001b[0;31mNameError\u001b[0m: name 'Sequential' is not defined"
     ]
    }
   ],
   "source": []
  },
  {
   "cell_type": "markdown",
   "metadata": {},
   "source": [
    "### 下面是一个错误的例子"
   ]
  },
  {
   "cell_type": "code",
   "execution_count": 40,
   "metadata": {},
   "outputs": [
    {
     "ename": "ValueError",
     "evalue": "Layer dense_4 was called with an input that isn't a symbolic tensor. Received type: <class 'numpy.ndarray'>. Full input: [array([0.        , 0.        , 0.        , 0.        , 0.        ,\n       0.        , 0.        , 0.        , 0.        , 0.        ,\n       0.        , 0.        , 0.        , 0.        , 0.        ,\n       0.        , 0.        , 0.        , 0.        , 0.        ,\n       0.        , 0.        , 0.        , 0.        , 0.        ,\n       0.        , 0.        , 0.        , 0.        , 0.        ,\n       0.        , 0.        , 0.        , 0.        , 0.        ,\n       0.        , 0.        , 0.        , 0.        , 0.        ,\n       0.        , 0.        , 0.        , 0.        , 0.        ,\n       0.        , 0.        , 0.        , 0.        , 0.        ,\n       0.        , 0.        , 0.        , 0.        , 0.        ,\n       0.        , 0.        , 0.        , 0.        , 0.        ,\n       0.        , 0.        , 0.        , 0.        , 0.        ,\n       0.        , 0.        , 0.        , 0.        , 0.        ,\n       0.        , 0.        , 0.        , 0.        , 0.        ,\n       0.        , 0.        , 0.        , 0.        , 0.        ,\n       0.        , 0.        , 0.        , 0.        , 0.        ,\n       0.        , 0.        , 0.        , 0.        , 0.        ,\n       0.        , 0.        , 0.        , 0.        , 0.        ,\n       0.        , 0.        , 0.        , 0.        , 0.        ,\n       0.        , 0.        , 0.        , 0.        , 0.        ,\n       0.        , 0.        , 0.        , 0.        , 0.        ,\n       0.        , 0.        , 0.        , 0.        , 0.        ,\n       0.        , 0.        , 0.        , 0.        , 0.        ,\n       0.        , 0.        , 0.        , 0.        , 0.        ,\n       0.        , 0.        , 0.        , 0.        , 0.        ,\n       0.        , 0.        , 0.        , 0.        , 0.        ,\n       0.        , 0.        , 0.        , 0.        , 0.        ,\n       0.        , 0.        , 0.        , 0.        , 0.        ,\n       0.        , 0.        , 0.        , 0.        , 0.        ,\n       0.        , 0.        , 0.        , 0.        , 0.        ,\n       0.        , 0.        , 0.        , 0.        , 0.        ,\n       0.        , 0.        , 0.        , 0.        , 0.        ,\n       0.        , 0.        , 0.        , 0.        , 0.        ,\n       0.        , 0.        , 0.        , 0.        , 0.        ,\n       0.        , 0.        , 0.        , 0.02352941, 0.76470596,\n       0.9960785 , 1.        , 0.93725497, 0.1137255 , 0.        ,\n       0.        , 0.        , 0.        , 0.        , 0.        ,\n       0.        , 0.        , 0.        , 0.        , 0.        ,\n       0.        , 0.        , 0.        , 0.        , 0.        ,\n       0.        , 0.        , 0.        , 0.        , 0.        ,\n       0.02352941, 0.6392157 , 0.9960785 , 0.9960785 , 0.6862745 ,\n       0.21568629, 0.01176471, 0.        , 0.        , 0.        ,\n       0.        , 0.09019608, 0.        , 0.        , 0.        ,\n       0.        , 0.        , 0.        , 0.        , 0.        ,\n       0.        , 0.        , 0.        , 0.        , 0.        ,\n       0.        , 0.        , 0.        , 0.47450984, 0.9960785 ,\n       0.9960785 , 0.5803922 , 0.03137255, 0.        , 0.        ,\n       0.        , 0.        , 0.        , 0.54901963, 0.9294118 ,\n       0.43921572, 0.        , 0.        , 0.        , 0.        ,\n       0.        , 0.        , 0.        , 0.        , 0.        ,\n       0.        , 0.        , 0.        , 0.        , 0.        ,\n       0.16862746, 0.9607844 , 0.9960785 , 0.9490197 , 0.01568628,\n       0.        , 0.        , 0.        , 0.        , 0.        ,\n       0.20784315, 0.92549026, 0.9960785 , 0.43921572, 0.        ,\n       0.        , 0.        , 0.        , 0.        , 0.        ,\n       0.        , 0.        , 0.        , 0.        , 0.        ,\n       0.        , 0.        , 0.        , 0.6431373 , 0.9960785 ,\n       0.9803922 , 0.2509804 , 0.        , 0.        , 0.        ,\n       0.        , 0.        , 0.        , 0.6627451 , 0.9960785 ,\n       0.97647065, 0.1254902 , 0.        , 0.        , 0.        ,\n       0.        , 0.        , 0.        , 0.        , 0.        ,\n       0.        , 0.        , 0.        , 0.        , 0.        ,\n       0.        , 0.83921576, 0.9960785 , 0.69803923, 0.        ,\n       0.        , 0.01176471, 0.03529412, 0.03529412, 0.03529412,\n       0.17254902, 0.909804  , 0.9960785 , 0.64705884, 0.        ,\n       0.        , 0.        , 0.        , 0.        , 0.        ,\n       0.        , 0.        , 0.        , 0.        , 0.        ,\n       0.        , 0.        , 0.        , 0.        , 0.83921576,\n       0.9960785 , 0.7254902 , 0.        , 0.21176472, 0.7294118 ,\n       0.9960785 , 0.9960785 , 0.9960785 , 0.9960785 , 0.9960785 ,\n       0.9058824 , 0.16862746, 0.        , 0.        , 0.        ,\n       0.        , 0.        , 0.        , 0.        , 0.        ,\n       0.        , 0.        , 0.        , 0.        , 0.        ,\n       0.        , 0.        , 0.37647063, 0.9960785 , 0.9803922 ,\n       0.74509805, 0.98823535, 0.9960785 , 0.9960785 , 0.9960785 ,\n       0.9960785 , 0.9960785 , 0.9960785 , 0.50980395, 0.        ,\n       0.        , 0.        , 0.        , 0.        , 0.        ,\n       0.        , 0.        , 0.        , 0.        , 0.        ,\n       0.        , 0.        , 0.        , 0.        , 0.        ,\n       0.49411768, 0.9960785 , 0.9960785 , 0.9960785 , 0.9960785 ,\n       0.7803922 , 0.46274513, 0.5686275 , 0.9960785 , 0.9960785 ,\n       0.9960785 , 0.30588236, 0.        , 0.        , 0.        ,\n       0.        , 0.        , 0.        , 0.        , 0.        ,\n       0.        , 0.        , 0.        , 0.        , 0.        ,\n       0.        , 0.        , 0.        , 0.10980393, 0.47058827,\n       0.47058827, 0.47058827, 0.1254902 , 0.01176471, 0.        ,\n       0.47450984, 0.9960785 , 0.9960785 , 0.76470596, 0.01568628,\n       0.        , 0.        , 0.        , 0.        , 0.        ,\n       0.        , 0.        , 0.        , 0.        , 0.        ,\n       0.        , 0.        , 0.        , 0.        , 0.        ,\n       0.        , 0.        , 0.        , 0.        , 0.        ,\n       0.        , 0.        , 0.        , 0.43137258, 0.9960785 ,\n       0.9960785 , 0.33333334, 0.        , 0.        , 0.        ,\n       0.        , 0.        , 0.        , 0.        , 0.        ,\n       0.        , 0.        , 0.        , 0.        , 0.        ,\n       0.        , 0.        , 0.        , 0.        , 0.        ,\n       0.        , 0.        , 0.        , 0.        , 0.        ,\n       0.        , 0.41960788, 0.9960785 , 0.98823535, 0.19215688,\n       0.        , 0.        , 0.        , 0.        , 0.        ,\n       0.        , 0.        , 0.        , 0.        , 0.        ,\n       0.        , 0.        , 0.        , 0.        , 0.        ,\n       0.        , 0.        , 0.        , 0.        , 0.        ,\n       0.        , 0.        , 0.        , 0.        , 0.8235295 ,\n       0.9960785 , 0.7176471 , 0.        , 0.        , 0.        ,\n       0.        , 0.        , 0.        , 0.        , 0.        ,\n       0.        , 0.        , 0.        , 0.        , 0.        ,\n       0.        , 0.        , 0.        , 0.        , 0.        ,\n       0.        , 0.        , 0.        , 0.        , 0.        ,\n       0.        , 0.05882353, 0.87843144, 0.9960785 , 0.2784314 ,\n       0.        , 0.        , 0.        , 0.        , 0.        ,\n       0.        , 0.        , 0.        , 0.        , 0.        ,\n       0.        , 0.        , 0.        , 0.        , 0.        ,\n       0.        , 0.        , 0.        , 0.        , 0.        ,\n       0.        , 0.        , 0.        , 0.        , 0.27058825,\n       0.9960785 , 0.97647065, 0.20784315, 0.        , 0.        ,\n       0.        , 0.        , 0.        , 0.        , 0.        ,\n       0.        , 0.        , 0.        , 0.        , 0.        ,\n       0.        , 0.        , 0.        , 0.        , 0.        ,\n       0.        , 0.        , 0.        , 0.        , 0.        ,\n       0.        , 0.        , 0.8470589 , 0.9960785 , 0.92549026,\n       0.        , 0.        , 0.        , 0.        , 0.        ,\n       0.        , 0.        , 0.        , 0.        , 0.        ,\n       0.        , 0.        , 0.        , 0.        , 0.        ,\n       0.        , 0.        , 0.        , 0.        , 0.        ,\n       0.        , 0.        , 0.        , 0.        , 0.        ,\n       0.8745099 , 0.9960785 , 0.74509805, 0.        , 0.        ,\n       0.        , 0.        , 0.        , 0.        , 0.        ,\n       0.        , 0.        , 0.        , 0.        , 0.        ,\n       0.        , 0.        , 0.        , 0.        , 0.        ,\n       0.        , 0.        , 0.        , 0.        , 0.        ,\n       0.        , 0.        , 0.        , 0.8745099 , 0.9960785 ,\n       0.73333335, 0.        , 0.        , 0.        , 0.        ,\n       0.        , 0.        , 0.        , 0.        , 0.        ,\n       0.        , 0.        , 0.        , 0.        , 0.        ,\n       0.        , 0.        , 0.        , 0.        , 0.        ,\n       0.        , 0.        , 0.        , 0.        , 0.        ,\n       0.        , 0.8745099 , 0.9960785 , 0.97647065, 0.49411768,\n       0.        , 0.        , 0.        , 0.        , 0.        ,\n       0.        , 0.        , 0.        , 0.        , 0.        ,\n       0.        , 0.        , 0.        , 0.        , 0.        ,\n       0.        , 0.        , 0.        , 0.        , 0.        ,\n       0.        , 0.        , 0.        , 0.        , 0.44705886,\n       0.9333334 , 0.9960785 , 0.48627454, 0.        , 0.        ,\n       0.        , 0.        , 0.        , 0.        , 0.        ,\n       0.        , 0.        , 0.        , 0.        , 0.        ,\n       0.        , 0.        , 0.        , 0.        , 0.        ,\n       0.        , 0.        , 0.        , 0.        , 0.        ,\n       0.        , 0.        , 0.        , 0.        , 0.        ,\n       0.        , 0.        , 0.        , 0.        , 0.        ,\n       0.        , 0.        , 0.        , 0.        , 0.        ,\n       0.        , 0.        , 0.        , 0.        , 0.        ,\n       0.        , 0.        , 0.        , 0.        , 0.        ,\n       0.        , 0.        , 0.        , 0.        , 0.        ,\n       0.        , 0.        , 0.        , 0.        , 0.        ,\n       0.        , 0.        , 0.        , 0.        , 0.        ,\n       0.        , 0.        , 0.        , 0.        ], dtype=float32)]. All inputs to the layer should be tensors.",
     "output_type": "error",
     "traceback": [
      "\u001b[0;31m---------------------------------------------------------------------------\u001b[0m",
      "\u001b[0;31mValueError\u001b[0m                                Traceback (most recent call last)",
      "\u001b[0;32m~/anaconda3/lib/python3.6/site-packages/keras/engine/base_layer.py\u001b[0m in \u001b[0;36massert_input_compatibility\u001b[0;34m(self, inputs)\u001b[0m\n\u001b[1;32m    278\u001b[0m             \u001b[0;32mtry\u001b[0m\u001b[0;34m:\u001b[0m\u001b[0;34m\u001b[0m\u001b[0m\n\u001b[0;32m--> 279\u001b[0;31m                 \u001b[0mK\u001b[0m\u001b[0;34m.\u001b[0m\u001b[0mis_keras_tensor\u001b[0m\u001b[0;34m(\u001b[0m\u001b[0mx\u001b[0m\u001b[0;34m)\u001b[0m\u001b[0;34m\u001b[0m\u001b[0m\n\u001b[0m\u001b[1;32m    280\u001b[0m             \u001b[0;32mexcept\u001b[0m \u001b[0mValueError\u001b[0m\u001b[0;34m:\u001b[0m\u001b[0;34m\u001b[0m\u001b[0m\n",
      "\u001b[0;32m~/anaconda3/lib/python3.6/site-packages/keras/backend/tensorflow_backend.py\u001b[0m in \u001b[0;36mis_keras_tensor\u001b[0;34m(x)\u001b[0m\n\u001b[1;32m    471\u001b[0m         raise ValueError('Unexpectedly found an instance of type `' +\n\u001b[0;32m--> 472\u001b[0;31m                          \u001b[0mstr\u001b[0m\u001b[0;34m(\u001b[0m\u001b[0mtype\u001b[0m\u001b[0;34m(\u001b[0m\u001b[0mx\u001b[0m\u001b[0;34m)\u001b[0m\u001b[0;34m)\u001b[0m \u001b[0;34m+\u001b[0m \u001b[0;34m'`. '\u001b[0m\u001b[0;34m\u001b[0m\u001b[0m\n\u001b[0m\u001b[1;32m    473\u001b[0m                          'Expected a symbolic tensor instance.')\n",
      "\u001b[0;31mValueError\u001b[0m: Unexpectedly found an instance of type `<class 'numpy.ndarray'>`. Expected a symbolic tensor instance.",
      "\nDuring handling of the above exception, another exception occurred:\n",
      "\u001b[0;31mValueError\u001b[0m                                Traceback (most recent call last)",
      "\u001b[0;32m<ipython-input-40-628b60cf73de>\u001b[0m in \u001b[0;36m<module>\u001b[0;34m()\u001b[0m\n\u001b[1;32m      1\u001b[0m \u001b[0mx\u001b[0m \u001b[0;34m=\u001b[0m \u001b[0mdata\u001b[0m\u001b[0;34m.\u001b[0m\u001b[0mtrain\u001b[0m\u001b[0;34m.\u001b[0m\u001b[0mimages\u001b[0m\u001b[0;34m[\u001b[0m\u001b[0;36m2\u001b[0m\u001b[0;34m]\u001b[0m\u001b[0;34m\u001b[0m\u001b[0m\n\u001b[1;32m      2\u001b[0m \u001b[0mf\u001b[0m \u001b[0;34m=\u001b[0m \u001b[0mDense\u001b[0m\u001b[0;34m(\u001b[0m\u001b[0;36m32\u001b[0m\u001b[0;34m,\u001b[0m \u001b[0mactivation\u001b[0m\u001b[0;34m=\u001b[0m\u001b[0;34m'relu'\u001b[0m\u001b[0;34m)\u001b[0m\u001b[0;34m\u001b[0m\u001b[0m\n\u001b[0;32m----> 3\u001b[0;31m \u001b[0my\u001b[0m \u001b[0;34m=\u001b[0m \u001b[0mf\u001b[0m\u001b[0;34m(\u001b[0m\u001b[0mx\u001b[0m\u001b[0;34m)\u001b[0m\u001b[0;34m\u001b[0m\u001b[0m\n\u001b[0m",
      "\u001b[0;32m~/anaconda3/lib/python3.6/site-packages/keras/engine/base_layer.py\u001b[0m in \u001b[0;36m__call__\u001b[0;34m(self, inputs, **kwargs)\u001b[0m\n\u001b[1;32m    412\u001b[0m                 \u001b[0;31m# Raise exceptions in case the input is not compatible\u001b[0m\u001b[0;34m\u001b[0m\u001b[0;34m\u001b[0m\u001b[0m\n\u001b[1;32m    413\u001b[0m                 \u001b[0;31m# with the input_spec specified in the layer constructor.\u001b[0m\u001b[0;34m\u001b[0m\u001b[0;34m\u001b[0m\u001b[0m\n\u001b[0;32m--> 414\u001b[0;31m                 \u001b[0mself\u001b[0m\u001b[0;34m.\u001b[0m\u001b[0massert_input_compatibility\u001b[0m\u001b[0;34m(\u001b[0m\u001b[0minputs\u001b[0m\u001b[0;34m)\u001b[0m\u001b[0;34m\u001b[0m\u001b[0m\n\u001b[0m\u001b[1;32m    415\u001b[0m \u001b[0;34m\u001b[0m\u001b[0m\n\u001b[1;32m    416\u001b[0m                 \u001b[0;31m# Collect input shapes to build layer.\u001b[0m\u001b[0;34m\u001b[0m\u001b[0;34m\u001b[0m\u001b[0m\n",
      "\u001b[0;32m~/anaconda3/lib/python3.6/site-packages/keras/engine/base_layer.py\u001b[0m in \u001b[0;36massert_input_compatibility\u001b[0;34m(self, inputs)\u001b[0m\n\u001b[1;32m    283\u001b[0m                                  \u001b[0;34m'Received type: '\u001b[0m \u001b[0;34m+\u001b[0m\u001b[0;34m\u001b[0m\u001b[0m\n\u001b[1;32m    284\u001b[0m                                  \u001b[0mstr\u001b[0m\u001b[0;34m(\u001b[0m\u001b[0mtype\u001b[0m\u001b[0;34m(\u001b[0m\u001b[0mx\u001b[0m\u001b[0;34m)\u001b[0m\u001b[0;34m)\u001b[0m \u001b[0;34m+\u001b[0m \u001b[0;34m'. Full input: '\u001b[0m \u001b[0;34m+\u001b[0m\u001b[0;34m\u001b[0m\u001b[0m\n\u001b[0;32m--> 285\u001b[0;31m                                  \u001b[0mstr\u001b[0m\u001b[0;34m(\u001b[0m\u001b[0minputs\u001b[0m\u001b[0;34m)\u001b[0m \u001b[0;34m+\u001b[0m \u001b[0;34m'. All inputs to the layer '\u001b[0m\u001b[0;34m\u001b[0m\u001b[0m\n\u001b[0m\u001b[1;32m    286\u001b[0m                                  'should be tensors.')\n\u001b[1;32m    287\u001b[0m \u001b[0;34m\u001b[0m\u001b[0m\n",
      "\u001b[0;31mValueError\u001b[0m: Layer dense_4 was called with an input that isn't a symbolic tensor. Received type: <class 'numpy.ndarray'>. Full input: [array([0.        , 0.        , 0.        , 0.        , 0.        ,\n       0.        , 0.        , 0.        , 0.        , 0.        ,\n       0.        , 0.        , 0.        , 0.        , 0.        ,\n       0.        , 0.        , 0.        , 0.        , 0.        ,\n       0.        , 0.        , 0.        , 0.        , 0.        ,\n       0.        , 0.        , 0.        , 0.        , 0.        ,\n       0.        , 0.        , 0.        , 0.        , 0.        ,\n       0.        , 0.        , 0.        , 0.        , 0.        ,\n       0.        , 0.        , 0.        , 0.        , 0.        ,\n       0.        , 0.        , 0.        , 0.        , 0.        ,\n       0.        , 0.        , 0.        , 0.        , 0.        ,\n       0.        , 0.        , 0.        , 0.        , 0.        ,\n       0.        , 0.        , 0.        , 0.        , 0.        ,\n       0.        , 0.        , 0.        , 0.        , 0.        ,\n       0.        , 0.        , 0.        , 0.        , 0.        ,\n       0.        , 0.        , 0.        , 0.        , 0.        ,\n       0.        , 0.        , 0.        , 0.        , 0.        ,\n       0.        , 0.        , 0.        , 0.        , 0.        ,\n       0.        , 0.        , 0.        , 0.        , 0.        ,\n       0.        , 0.        , 0.        , 0.        , 0.        ,\n       0.        , 0.        , 0.        , 0.        , 0.        ,\n       0.        , 0.        , 0.        , 0.        , 0.        ,\n       0.        , 0.        , 0.        , 0.        , 0.        ,\n       0.        , 0.        , 0.        , 0.        , 0.        ,\n       0.        , 0.        , 0.        , 0.        , 0.        ,\n       0.        , 0.        , 0.        , 0.        , 0.        ,\n       0.        , 0.        , 0.        , 0.        , 0.        ,\n       0.        , 0.        , 0.        , 0.        , 0.        ,\n       0.        , 0.        , 0.        , 0.        , 0.        ,\n       0.        , 0.        , 0.        , 0.        , 0.        ,\n       0.        , 0.        , 0.        , 0.        , 0.        ,\n       0.        , 0.        , 0.        , 0.        , 0.        ,\n       0.        , 0.        , 0.        , 0.        , 0.        ,\n       0.        , 0.        , 0.        , 0.        , 0.        ,\n       0.        , 0.        , 0.        , 0.        , 0.        ,\n       0.        , 0.        , 0.        , 0.02352941, 0.76470596,\n       0.9960785 , 1.        , 0.93725497, 0.1137255 , 0.        ,\n       0.        , 0.        , 0.        , 0.        , 0.        ,\n       0.        , 0.        , 0.        , 0.        , 0.        ,\n       0.        , 0.        , 0.        , 0.        , 0.        ,\n       0.        , 0.        , 0.        , 0.        , 0.        ,\n       0.02352941, 0.6392157 , 0.9960785 , 0.9960785 , 0.6862745 ,\n       0.21568629, 0.01176471, 0.        , 0.        , 0.        ,\n       0.        , 0.09019608, 0.        , 0.        , 0.        ,\n       0.        , 0.        , 0.        , 0.        , 0.        ,\n       0.        , 0.        , 0.        , 0.        , 0.        ,\n       0.        , 0.        , 0.        , 0.47450984, 0.9960785 ,\n       0.9960785 , 0.5803922 , 0.03137255, 0.        , 0.        ,\n       0.        , 0.        , 0.        , 0.54901963, 0.9294118 ,\n       0.43921572, 0.        , 0.        , 0.        , 0.        ,\n       0.        , 0.        , 0.        , 0.        , 0.        ,\n       0.        , 0.        , 0.        , 0.        , 0.        ,\n       0.16862746, 0.9607844 , 0.9960785 , 0.9490197 , 0.01568628,\n       0.        , 0.        , 0.        , 0.        , 0.        ,\n       0.20784315, 0.92549026, 0.9960785 , 0.43921572, 0.        ,\n       0.        , 0.        , 0.        , 0.        , 0.        ,\n       0.        , 0.        , 0.        , 0.        , 0.        ,\n       0.        , 0.        , 0.        , 0.6431373 , 0.9960785 ,\n       0.9803922 , 0.2509804 , 0.        , 0.        , 0.        ,\n       0.        , 0.        , 0.        , 0.6627451 , 0.9960785 ,\n       0.97647065, 0.1254902 , 0.        , 0.        , 0.        ,\n       0.        , 0.        , 0.        , 0.        , 0.        ,\n       0.        , 0.        , 0.        , 0.        , 0.        ,\n       0.        , 0.83921576, 0.9960785 , 0.69803923, 0.        ,\n       0.        , 0.01176471, 0.03529412, 0.03529412, 0.03529412,\n       0.17254902, 0.909804  , 0.9960785 , 0.64705884, 0.        ,\n       0.        , 0.        , 0.        , 0.        , 0.        ,\n       0.        , 0.        , 0.        , 0.        , 0.        ,\n       0.        , 0.        , 0.        , 0.        , 0.83921576,\n       0.9960785 , 0.7254902 , 0.        , 0.21176472, 0.7294118 ,\n       0.9960785 , 0.9960785 , 0.9960785 , 0.9960785 , 0.9960785 ,\n       0.9058824 , 0.16862746, 0.        , 0.        , 0.        ,\n       0.        , 0.        , 0.        , 0.        , 0.        ,\n       0.        , 0.        , 0.        , 0.        , 0.        ,\n       0.        , 0.        , 0.37647063, 0.9960785 , 0.9803922 ,\n       0.74509805, 0.98823535, 0.9960785 , 0.9960785 , 0.9960785 ,\n       0.9960785 , 0.9960785 , 0.9960785 , 0.50980395, 0.        ,\n       0.        , 0.        , 0.        , 0.        , 0.        ,\n       0.        , 0.        , 0.        , 0.        , 0.        ,\n       0.        , 0.        , 0.        , 0.        , 0.        ,\n       0.49411768, 0.9960785 , 0.9960785 , 0.9960785 , 0.9960785 ,\n       0.7803922 , 0.46274513, 0.5686275 , 0.9960785 , 0.9960785 ,\n       0.9960785 , 0.30588236, 0.        , 0.        , 0.        ,\n       0.        , 0.        , 0.        , 0.        , 0.        ,\n       0.        , 0.        , 0.        , 0.        , 0.        ,\n       0.        , 0.        , 0.        , 0.10980393, 0.47058827,\n       0.47058827, 0.47058827, 0.1254902 , 0.01176471, 0.        ,\n       0.47450984, 0.9960785 , 0.9960785 , 0.76470596, 0.01568628,\n       0.        , 0.        , 0.        , 0.        , 0.        ,\n       0.        , 0.        , 0.        , 0.        , 0.        ,\n       0.        , 0.        , 0.        , 0.        , 0.        ,\n       0.        , 0.        , 0.        , 0.        , 0.        ,\n       0.        , 0.        , 0.        , 0.43137258, 0.9960785 ,\n       0.9960785 , 0.33333334, 0.        , 0.        , 0.        ,\n       0.        , 0.        , 0.        , 0.        , 0.        ,\n       0.        , 0.        , 0.        , 0.        , 0.        ,\n       0.        , 0.        , 0.        , 0.        , 0.        ,\n       0.        , 0.        , 0.        , 0.        , 0.        ,\n       0.        , 0.41960788, 0.9960785 , 0.98823535, 0.19215688,\n       0.        , 0.        , 0.        , 0.        , 0.        ,\n       0.        , 0.        , 0.        , 0.        , 0.        ,\n       0.        , 0.        , 0.        , 0.        , 0.        ,\n       0.        , 0.        , 0.        , 0.        , 0.        ,\n       0.        , 0.        , 0.        , 0.        , 0.8235295 ,\n       0.9960785 , 0.7176471 , 0.        , 0.        , 0.        ,\n       0.        , 0.        , 0.        , 0.        , 0.        ,\n       0.        , 0.        , 0.        , 0.        , 0.        ,\n       0.        , 0.        , 0.        , 0.        , 0.        ,\n       0.        , 0.        , 0.        , 0.        , 0.        ,\n       0.        , 0.05882353, 0.87843144, 0.9960785 , 0.2784314 ,\n       0.        , 0.        , 0.        , 0.        , 0.        ,\n       0.        , 0.        , 0.        , 0.        , 0.        ,\n       0.        , 0.        , 0.        , 0.        , 0.        ,\n       0.        , 0.        , 0.        , 0.        , 0.        ,\n       0.        , 0.        , 0.        , 0.        , 0.27058825,\n       0.9960785 , 0.97647065, 0.20784315, 0.        , 0.        ,\n       0.        , 0.        , 0.        , 0.        , 0.        ,\n       0.        , 0.        , 0.        , 0.        , 0.        ,\n       0.        , 0.        , 0.        , 0.        , 0.        ,\n       0.        , 0.        , 0.        , 0.        , 0.        ,\n       0.        , 0.        , 0.8470589 , 0.9960785 , 0.92549026,\n       0.        , 0.        , 0.        , 0.        , 0.        ,\n       0.        , 0.        , 0.        , 0.        , 0.        ,\n       0.        , 0.        , 0.        , 0.        , 0.        ,\n       0.        , 0.        , 0.        , 0.        , 0.        ,\n       0.        , 0.        , 0.        , 0.        , 0.        ,\n       0.8745099 , 0.9960785 , 0.74509805, 0.        , 0.        ,\n       0.        , 0.        , 0.        , 0.        , 0.        ,\n       0.        , 0.        , 0.        , 0.        , 0.        ,\n       0.        , 0.        , 0.        , 0.        , 0.        ,\n       0.        , 0.        , 0.        , 0.        , 0.        ,\n       0.        , 0.        , 0.        , 0.8745099 , 0.9960785 ,\n       0.73333335, 0.        , 0.        , 0.        , 0.        ,\n       0.        , 0.        , 0.        , 0.        , 0.        ,\n       0.        , 0.        , 0.        , 0.        , 0.        ,\n       0.        , 0.        , 0.        , 0.        , 0.        ,\n       0.        , 0.        , 0.        , 0.        , 0.        ,\n       0.        , 0.8745099 , 0.9960785 , 0.97647065, 0.49411768,\n       0.        , 0.        , 0.        , 0.        , 0.        ,\n       0.        , 0.        , 0.        , 0.        , 0.        ,\n       0.        , 0.        , 0.        , 0.        , 0.        ,\n       0.        , 0.        , 0.        , 0.        , 0.        ,\n       0.        , 0.        , 0.        , 0.        , 0.44705886,\n       0.9333334 , 0.9960785 , 0.48627454, 0.        , 0.        ,\n       0.        , 0.        , 0.        , 0.        , 0.        ,\n       0.        , 0.        , 0.        , 0.        , 0.        ,\n       0.        , 0.        , 0.        , 0.        , 0.        ,\n       0.        , 0.        , 0.        , 0.        , 0.        ,\n       0.        , 0.        , 0.        , 0.        , 0.        ,\n       0.        , 0.        , 0.        , 0.        , 0.        ,\n       0.        , 0.        , 0.        , 0.        , 0.        ,\n       0.        , 0.        , 0.        , 0.        , 0.        ,\n       0.        , 0.        , 0.        , 0.        , 0.        ,\n       0.        , 0.        , 0.        , 0.        , 0.        ,\n       0.        , 0.        , 0.        , 0.        , 0.        ,\n       0.        , 0.        , 0.        , 0.        , 0.        ,\n       0.        , 0.        , 0.        , 0.        ], dtype=float32)]. All inputs to the layer should be tensors."
     ]
    }
   ],
   "source": [
    "x = data.train.images[2]\n",
    "f = Dense(32, activation='relu')\n",
    "y = f(x)"
   ]
  },
  {
   "cell_type": "markdown",
   "metadata": {},
   "source": [
    "### 必须使用placeholder 计算图"
   ]
  },
  {
   "cell_type": "code",
   "execution_count": 41,
   "metadata": {
    "collapsed": true
   },
   "outputs": [],
   "source": [
    "x = data.train.images[2]\n",
    "place = tf.placeholder(tf.float32, shape=(None, 784))\n",
    "y = Dense(32, activation='relu')(place)"
   ]
  },
  {
   "cell_type": "markdown",
   "metadata": {},
   "source": [
    "### 下面是一个错误的例子\n",
    "\n",
    "placeholder 这样定义：\n",
    "\n",
    "place = tf.placeholder(tf.float32, shape=(None, 784))\n",
    "\n",
    "\n",
    "所以传入的必须是一个列表 [x1, x2, ..., xn] 而不能是单个的x"
   ]
  },
  {
   "cell_type": "code",
   "execution_count": 43,
   "metadata": {
    "collapsed": true
   },
   "outputs": [],
   "source": [
    "sess = session"
   ]
  },
  {
   "cell_type": "code",
   "execution_count": 44,
   "metadata": {},
   "outputs": [
    {
     "ename": "ValueError",
     "evalue": "Cannot feed value of shape (784,) for Tensor 'Placeholder_2:0', which has shape '(?, 784)'",
     "output_type": "error",
     "traceback": [
      "\u001b[0;31m---------------------------------------------------------------------------\u001b[0m",
      "\u001b[0;31mValueError\u001b[0m                                Traceback (most recent call last)",
      "\u001b[0;32m<ipython-input-44-90e09b56eefc>\u001b[0m in \u001b[0;36m<module>\u001b[0;34m()\u001b[0m\n\u001b[1;32m      2\u001b[0m \u001b[0msess\u001b[0m\u001b[0;34m.\u001b[0m\u001b[0mrun\u001b[0m\u001b[0;34m(\u001b[0m\u001b[0minit_op\u001b[0m\u001b[0;34m)\u001b[0m\u001b[0;34m\u001b[0m\u001b[0m\n\u001b[1;32m      3\u001b[0m \u001b[0;34m\u001b[0m\u001b[0m\n\u001b[0;32m----> 4\u001b[0;31m \u001b[0msess\u001b[0m\u001b[0;34m.\u001b[0m\u001b[0mrun\u001b[0m\u001b[0;34m(\u001b[0m\u001b[0my\u001b[0m\u001b[0;34m,\u001b[0m \u001b[0mfeed_dict\u001b[0m\u001b[0;34m=\u001b[0m\u001b[0;34m{\u001b[0m\u001b[0mplace\u001b[0m\u001b[0;34m:\u001b[0m\u001b[0mx\u001b[0m\u001b[0;34m}\u001b[0m\u001b[0;34m)\u001b[0m\u001b[0;34m\u001b[0m\u001b[0m\n\u001b[0m",
      "\u001b[0;32m~/anaconda3/lib/python3.6/site-packages/tensorflow/python/client/session.py\u001b[0m in \u001b[0;36mrun\u001b[0;34m(self, fetches, feed_dict, options, run_metadata)\u001b[0m\n\u001b[1;32m    898\u001b[0m     \u001b[0;32mtry\u001b[0m\u001b[0;34m:\u001b[0m\u001b[0;34m\u001b[0m\u001b[0m\n\u001b[1;32m    899\u001b[0m       result = self._run(None, fetches, feed_dict, options_ptr,\n\u001b[0;32m--> 900\u001b[0;31m                          run_metadata_ptr)\n\u001b[0m\u001b[1;32m    901\u001b[0m       \u001b[0;32mif\u001b[0m \u001b[0mrun_metadata\u001b[0m\u001b[0;34m:\u001b[0m\u001b[0;34m\u001b[0m\u001b[0m\n\u001b[1;32m    902\u001b[0m         \u001b[0mproto_data\u001b[0m \u001b[0;34m=\u001b[0m \u001b[0mtf_session\u001b[0m\u001b[0;34m.\u001b[0m\u001b[0mTF_GetBuffer\u001b[0m\u001b[0;34m(\u001b[0m\u001b[0mrun_metadata_ptr\u001b[0m\u001b[0;34m)\u001b[0m\u001b[0;34m\u001b[0m\u001b[0m\n",
      "\u001b[0;32m~/anaconda3/lib/python3.6/site-packages/tensorflow/python/client/session.py\u001b[0m in \u001b[0;36m_run\u001b[0;34m(self, handle, fetches, feed_dict, options, run_metadata)\u001b[0m\n\u001b[1;32m   1109\u001b[0m                              \u001b[0;34m'which has shape %r'\u001b[0m \u001b[0;34m%\u001b[0m\u001b[0;34m\u001b[0m\u001b[0m\n\u001b[1;32m   1110\u001b[0m                              (np_val.shape, subfeed_t.name,\n\u001b[0;32m-> 1111\u001b[0;31m                               str(subfeed_t.get_shape())))\n\u001b[0m\u001b[1;32m   1112\u001b[0m           \u001b[0;32mif\u001b[0m \u001b[0;32mnot\u001b[0m \u001b[0mself\u001b[0m\u001b[0;34m.\u001b[0m\u001b[0mgraph\u001b[0m\u001b[0;34m.\u001b[0m\u001b[0mis_feedable\u001b[0m\u001b[0;34m(\u001b[0m\u001b[0msubfeed_t\u001b[0m\u001b[0;34m)\u001b[0m\u001b[0;34m:\u001b[0m\u001b[0;34m\u001b[0m\u001b[0m\n\u001b[1;32m   1113\u001b[0m             \u001b[0;32mraise\u001b[0m \u001b[0mValueError\u001b[0m\u001b[0;34m(\u001b[0m\u001b[0;34m'Tensor %s may not be fed.'\u001b[0m \u001b[0;34m%\u001b[0m \u001b[0msubfeed_t\u001b[0m\u001b[0;34m)\u001b[0m\u001b[0;34m\u001b[0m\u001b[0m\n",
      "\u001b[0;31mValueError\u001b[0m: Cannot feed value of shape (784,) for Tensor 'Placeholder_2:0', which has shape '(?, 784)'"
     ]
    }
   ],
   "source": [
    "init_op = tf.global_variables_initializer()\n",
    "sess.run(init_op)\n",
    "\n",
    "sess.run(y, feed_dict={place:x})"
   ]
  },
  {
   "cell_type": "markdown",
   "metadata": {},
   "source": [
    "## 下面这样写是对的"
   ]
  },
  {
   "cell_type": "code",
   "execution_count": 51,
   "metadata": {
    "collapsed": true
   },
   "outputs": [],
   "source": [
    "init_op = tf.global_variables_initializer()\n",
    "sess.run(init_op)\n",
    "x = data.train.images[0:100,:]\n",
    "output = sess.run(y, feed_dict={place:x})"
   ]
  },
  {
   "cell_type": "code",
   "execution_count": 52,
   "metadata": {},
   "outputs": [
    {
     "data": {
      "text/plain": [
       "(100, 32)"
      ]
     },
     "execution_count": 52,
     "metadata": {},
     "output_type": "execute_result"
    }
   ],
   "source": [
    "output.shape"
   ]
  },
  {
   "cell_type": "code",
   "execution_count": 53,
   "metadata": {
    "collapsed": true
   },
   "outputs": [],
   "source": [
    "from keras.layers import Activation, BatchNormalization, Conv2D, Dense, Flatten, Reshape"
   ]
  },
  {
   "cell_type": "code",
   "execution_count": 54,
   "metadata": {
    "collapsed": true
   },
   "outputs": [],
   "source": [
    "from keras.initializers import glorot_normal\n",
    "place = tf.placeholder(tf.float32, shape=(None, 784))\n",
    "f0 = Reshape((28,28, 1), input_shape=(784,))\n",
    "f = Conv2D(16,\n",
    "           kernel_size=(3, 3),\n",
    "           strides=1,\n",
    "           padding='same',\n",
    "           kernel_initializer=glorot_normal())\n"
   ]
  },
  {
   "cell_type": "code",
   "execution_count": 55,
   "metadata": {},
   "outputs": [
    {
     "data": {
      "text/plain": [
       "TensorShape([Dimension(None), Dimension(28), Dimension(28), Dimension(1)])"
      ]
     },
     "execution_count": 55,
     "metadata": {},
     "output_type": "execute_result"
    }
   ],
   "source": [
    "place = tf.placeholder(tf.float32, shape=(None, 784))\n",
    "x1 = f0(place)\n",
    "x1.shape"
   ]
  },
  {
   "cell_type": "code",
   "execution_count": 56,
   "metadata": {},
   "outputs": [
    {
     "data": {
      "text/plain": [
       "<tf.Tensor 'conv2d_1/BiasAdd:0' shape=(?, 28, 28, 16) dtype=float32>"
      ]
     },
     "execution_count": 56,
     "metadata": {},
     "output_type": "execute_result"
    }
   ],
   "source": [
    "f(x1)"
   ]
  },
  {
   "cell_type": "code",
   "execution_count": 57,
   "metadata": {
    "collapsed": true
   },
   "outputs": [],
   "source": [
    "y = f(x1)"
   ]
  },
  {
   "cell_type": "code",
   "execution_count": 58,
   "metadata": {},
   "outputs": [
    {
     "ename": "ValueError",
     "evalue": "Cannot feed value of shape (1, 100, 784) for Tensor 'Placeholder_4:0', which has shape '(?, 784)'",
     "output_type": "error",
     "traceback": [
      "\u001b[0;31m---------------------------------------------------------------------------\u001b[0m",
      "\u001b[0;31mValueError\u001b[0m                                Traceback (most recent call last)",
      "\u001b[0;32m<ipython-input-58-1c6e64c0b0b2>\u001b[0m in \u001b[0;36m<module>\u001b[0;34m()\u001b[0m\n\u001b[1;32m      2\u001b[0m \u001b[0msess\u001b[0m\u001b[0;34m.\u001b[0m\u001b[0mrun\u001b[0m\u001b[0;34m(\u001b[0m\u001b[0minit_op\u001b[0m\u001b[0;34m)\u001b[0m\u001b[0;34m\u001b[0m\u001b[0m\n\u001b[1;32m      3\u001b[0m \u001b[0;34m\u001b[0m\u001b[0m\n\u001b[0;32m----> 4\u001b[0;31m \u001b[0mresult\u001b[0m \u001b[0;34m=\u001b[0m \u001b[0msess\u001b[0m\u001b[0;34m.\u001b[0m\u001b[0mrun\u001b[0m\u001b[0;34m(\u001b[0m\u001b[0my\u001b[0m\u001b[0;34m,\u001b[0m \u001b[0mfeed_dict\u001b[0m\u001b[0;34m=\u001b[0m\u001b[0;34m{\u001b[0m\u001b[0mplace\u001b[0m\u001b[0;34m:\u001b[0m\u001b[0;34m[\u001b[0m\u001b[0mx\u001b[0m\u001b[0;34m]\u001b[0m\u001b[0;34m}\u001b[0m\u001b[0;34m)\u001b[0m\u001b[0;34m\u001b[0m\u001b[0m\n\u001b[0m",
      "\u001b[0;32m~/anaconda3/lib/python3.6/site-packages/tensorflow/python/client/session.py\u001b[0m in \u001b[0;36mrun\u001b[0;34m(self, fetches, feed_dict, options, run_metadata)\u001b[0m\n\u001b[1;32m    898\u001b[0m     \u001b[0;32mtry\u001b[0m\u001b[0;34m:\u001b[0m\u001b[0;34m\u001b[0m\u001b[0m\n\u001b[1;32m    899\u001b[0m       result = self._run(None, fetches, feed_dict, options_ptr,\n\u001b[0;32m--> 900\u001b[0;31m                          run_metadata_ptr)\n\u001b[0m\u001b[1;32m    901\u001b[0m       \u001b[0;32mif\u001b[0m \u001b[0mrun_metadata\u001b[0m\u001b[0;34m:\u001b[0m\u001b[0;34m\u001b[0m\u001b[0m\n\u001b[1;32m    902\u001b[0m         \u001b[0mproto_data\u001b[0m \u001b[0;34m=\u001b[0m \u001b[0mtf_session\u001b[0m\u001b[0;34m.\u001b[0m\u001b[0mTF_GetBuffer\u001b[0m\u001b[0;34m(\u001b[0m\u001b[0mrun_metadata_ptr\u001b[0m\u001b[0;34m)\u001b[0m\u001b[0;34m\u001b[0m\u001b[0m\n",
      "\u001b[0;32m~/anaconda3/lib/python3.6/site-packages/tensorflow/python/client/session.py\u001b[0m in \u001b[0;36m_run\u001b[0;34m(self, handle, fetches, feed_dict, options, run_metadata)\u001b[0m\n\u001b[1;32m   1109\u001b[0m                              \u001b[0;34m'which has shape %r'\u001b[0m \u001b[0;34m%\u001b[0m\u001b[0;34m\u001b[0m\u001b[0m\n\u001b[1;32m   1110\u001b[0m                              (np_val.shape, subfeed_t.name,\n\u001b[0;32m-> 1111\u001b[0;31m                               str(subfeed_t.get_shape())))\n\u001b[0m\u001b[1;32m   1112\u001b[0m           \u001b[0;32mif\u001b[0m \u001b[0;32mnot\u001b[0m \u001b[0mself\u001b[0m\u001b[0;34m.\u001b[0m\u001b[0mgraph\u001b[0m\u001b[0;34m.\u001b[0m\u001b[0mis_feedable\u001b[0m\u001b[0;34m(\u001b[0m\u001b[0msubfeed_t\u001b[0m\u001b[0;34m)\u001b[0m\u001b[0;34m:\u001b[0m\u001b[0;34m\u001b[0m\u001b[0m\n\u001b[1;32m   1113\u001b[0m             \u001b[0;32mraise\u001b[0m \u001b[0mValueError\u001b[0m\u001b[0;34m(\u001b[0m\u001b[0;34m'Tensor %s may not be fed.'\u001b[0m \u001b[0;34m%\u001b[0m \u001b[0msubfeed_t\u001b[0m\u001b[0;34m)\u001b[0m\u001b[0;34m\u001b[0m\u001b[0m\n",
      "\u001b[0;31mValueError\u001b[0m: Cannot feed value of shape (1, 100, 784) for Tensor 'Placeholder_4:0', which has shape '(?, 784)'"
     ]
    }
   ],
   "source": [
    "init_op = tf.global_variables_initializer()\n",
    "sess.run(init_op)\n",
    "\n",
    "result = sess.run(y, feed_dict={place:[x]})"
   ]
  },
  {
   "cell_type": "code",
   "execution_count": 81,
   "metadata": {},
   "outputs": [
    {
     "data": {
      "text/plain": [
       "22.743431"
      ]
     },
     "execution_count": 81,
     "metadata": {},
     "output_type": "execute_result"
    }
   ],
   "source": [
    "result.sum()"
   ]
  },
  {
   "cell_type": "code",
   "execution_count": 30,
   "metadata": {},
   "outputs": [
    {
     "data": {
      "text/plain": [
       "4"
      ]
     },
     "execution_count": 30,
     "metadata": {},
     "output_type": "execute_result"
    }
   ],
   "source": [
    "data.train.labels[2]"
   ]
  },
  {
   "cell_type": "code",
   "execution_count": 61,
   "metadata": {},
   "outputs": [
    {
     "name": "stdout",
     "output_type": "stream",
     "text": [
      "a: [[1 2 3]\n",
      " [3 4 5]]\n",
      "a[1]: [3 4 5]\n",
      "['T', 'all', 'any', 'argmax', 'argmin', 'argpartition', 'argsort', 'astype', 'base', 'byteswap', 'choose', 'clip', 'compress', 'conj', 'conjugate', 'copy', 'ctypes', 'cumprod', 'cumsum', 'data', 'diagonal', 'dot', 'dtype', 'dump', 'dumps', 'fill', 'flags', 'flat', 'flatten', 'getfield', 'imag', 'item', 'itemset', 'itemsize', 'max', 'mean', 'min', 'nbytes', 'ndim', 'newbyteorder', 'nonzero', 'partition', 'prod', 'ptp', 'put', 'ravel', 'real', 'repeat', 'reshape', 'resize', 'round', 'searchsorted', 'setfield', 'setflags', 'shape', 'size', 'sort', 'squeeze', 'std', 'strides', 'sum', 'swapaxes', 'take', 'tobytes', 'tofile', 'tolist', 'tostring', 'trace', 'transpose', 'var', 'view']\n"
     ]
    }
   ],
   "source": [
    "import numpy as np\n",
    "a = np.array([[1,2,3], [3,4,5]], dtype=np.int32)\n",
    "print('a:', a)\n",
    "print('a[1]:',a[1])\n",
    "dir(a)\n",
    "\n",
    "x = dir(a)\n",
    "public_method = [i for i in x if not i.startswith('__')]\n",
    "print(public_method)"
   ]
  },
  {
   "cell_type": "code",
   "execution_count": 59,
   "metadata": {
    "collapsed": true
   },
   "outputs": [],
   "source": [
    "from keras.models import Sequential\n",
    "from keras.layers import Dense\n",
    "from keras.optimizers import Adam,SGD\n",
    "from keras.losses import categorical_crossentropy\n",
    "from keras.utils import np_utils\n",
    "from keras.initializers import glorot_normal"
   ]
  },
  {
   "cell_type": "code",
   "execution_count": 60,
   "metadata": {
    "collapsed": true
   },
   "outputs": [],
   "source": [
    "model = Sequential()\n",
    "model.add(Dense(10, input_dim=784,activation='softmax'))\n",
    "model.compile(optimizer=SGD(0.01),\n",
    "              loss=categorical_crossentropy,\n",
    "              metrics=['accuracy'])\n"
   ]
  },
  {
   "cell_type": "code",
   "execution_count": 61,
   "metadata": {},
   "outputs": [
    {
     "name": "stdout",
     "output_type": "stream",
     "text": [
      "_________________________________________________________________\n",
      "Layer (type)                 Output Shape              Param #   \n",
      "=================================================================\n",
      "dense_6 (Dense)              (None, 10)                7850      \n",
      "=================================================================\n",
      "Total params: 7,850\n",
      "Trainable params: 7,850\n",
      "Non-trainable params: 0\n",
      "_________________________________________________________________\n"
     ]
    }
   ],
   "source": [
    "model.summary()"
   ]
  },
  {
   "cell_type": "code",
   "execution_count": 62,
   "metadata": {},
   "outputs": [
    {
     "name": "stdout",
     "output_type": "stream",
     "text": [
      "Epoch 1/1\n",
      "55000/55000 [==============================] - 1s 12us/step - loss: 1.3349 - acc: 0.6787\n"
     ]
    },
    {
     "data": {
      "text/plain": [
       "<keras.callbacks.History at 0x1c2a4bef60>"
      ]
     },
     "execution_count": 62,
     "metadata": {},
     "output_type": "execute_result"
    }
   ],
   "source": [
    "model.fit(x=data.train.images,\n",
    "          y=np_utils.to_categorical(data.train.labels),\n",
    "          epochs=1, batch_size=128)"
   ]
  },
  {
   "cell_type": "code",
   "execution_count": 63,
   "metadata": {},
   "outputs": [
    {
     "name": "stdout",
     "output_type": "stream",
     "text": [
      "Epoch 1/50\n",
      "55000/55000 [==============================] - 1s 10us/step - loss: 0.7456 - acc: 0.8359\n",
      "Epoch 2/50\n",
      "55000/55000 [==============================] - 1s 10us/step - loss: 0.6076 - acc: 0.8558\n",
      "Epoch 3/50\n",
      "55000/55000 [==============================] - 1s 10us/step - loss: 0.5417 - acc: 0.8657\n",
      "Epoch 4/50\n",
      "55000/55000 [==============================] - 1s 10us/step - loss: 0.5018 - acc: 0.8727\n",
      "Epoch 5/50\n",
      "55000/55000 [==============================] - 1s 10us/step - loss: 0.4743 - acc: 0.8777\n",
      "Epoch 6/50\n",
      "55000/55000 [==============================] - 1s 10us/step - loss: 0.4541 - acc: 0.8811\n",
      "Epoch 7/50\n",
      "55000/55000 [==============================] - 1s 10us/step - loss: 0.4384 - acc: 0.8846\n",
      "Epoch 8/50\n",
      "55000/55000 [==============================] - 1s 10us/step - loss: 0.4257 - acc: 0.8867\n",
      "Epoch 9/50\n",
      "55000/55000 [==============================] - 1s 10us/step - loss: 0.4152 - acc: 0.8887\n",
      "Epoch 10/50\n",
      "55000/55000 [==============================] - 1s 10us/step - loss: 0.4062 - acc: 0.8910\n",
      "Epoch 11/50\n",
      "55000/55000 [==============================] - 1s 10us/step - loss: 0.3986 - acc: 0.8926\n",
      "Epoch 12/50\n",
      "55000/55000 [==============================] - 1s 11us/step - loss: 0.3920 - acc: 0.8939\n",
      "Epoch 13/50\n",
      "55000/55000 [==============================] - 1s 11us/step - loss: 0.3860 - acc: 0.8954\n",
      "Epoch 14/50\n",
      "55000/55000 [==============================] - 1s 11us/step - loss: 0.3808 - acc: 0.8966\n",
      "Epoch 15/50\n",
      "55000/55000 [==============================] - 1s 11us/step - loss: 0.3760 - acc: 0.8976\n",
      "Epoch 16/50\n",
      "55000/55000 [==============================] - 1s 10us/step - loss: 0.3717 - acc: 0.8987\n",
      "Epoch 17/50\n",
      "55000/55000 [==============================] - 1s 10us/step - loss: 0.3678 - acc: 0.8995\n",
      "Epoch 18/50\n",
      "55000/55000 [==============================] - 1s 10us/step - loss: 0.3642 - acc: 0.9003\n",
      "Epoch 19/50\n",
      "55000/55000 [==============================] - 1s 10us/step - loss: 0.3609 - acc: 0.9010\n",
      "Epoch 20/50\n",
      "55000/55000 [==============================] - 1s 10us/step - loss: 0.3579 - acc: 0.9014\n",
      "Epoch 21/50\n",
      "55000/55000 [==============================] - 1s 10us/step - loss: 0.3550 - acc: 0.9021\n",
      "Epoch 22/50\n",
      "55000/55000 [==============================] - 1s 10us/step - loss: 0.3523 - acc: 0.9034\n",
      "Epoch 23/50\n",
      "55000/55000 [==============================] - 1s 10us/step - loss: 0.3499 - acc: 0.9037\n",
      "Epoch 24/50\n",
      "55000/55000 [==============================] - 1s 11us/step - loss: 0.3475 - acc: 0.9041\n",
      "Epoch 25/50\n",
      "55000/55000 [==============================] - 1s 11us/step - loss: 0.3454 - acc: 0.9042\n",
      "Epoch 26/50\n",
      "55000/55000 [==============================] - 1s 10us/step - loss: 0.3433 - acc: 0.9050\n",
      "Epoch 27/50\n",
      "55000/55000 [==============================] - 1s 11us/step - loss: 0.3413 - acc: 0.9053\n",
      "Epoch 28/50\n",
      "55000/55000 [==============================] - 1s 10us/step - loss: 0.3394 - acc: 0.9060\n",
      "Epoch 29/50\n",
      "55000/55000 [==============================] - 1s 10us/step - loss: 0.3377 - acc: 0.9063\n",
      "Epoch 30/50\n",
      "55000/55000 [==============================] - 1s 10us/step - loss: 0.3360 - acc: 0.9069\n",
      "Epoch 31/50\n",
      "55000/55000 [==============================] - 1s 10us/step - loss: 0.3344 - acc: 0.9069\n",
      "Epoch 32/50\n",
      "55000/55000 [==============================] - 1s 10us/step - loss: 0.3329 - acc: 0.9076: 0s - loss: 0.3383 - acc\n",
      "Epoch 33/50\n",
      "55000/55000 [==============================] - 1s 10us/step - loss: 0.3315 - acc: 0.9079\n",
      "Epoch 34/50\n",
      "55000/55000 [==============================] - 1s 10us/step - loss: 0.3300 - acc: 0.9082\n",
      "Epoch 35/50\n",
      "55000/55000 [==============================] - 1s 10us/step - loss: 0.3287 - acc: 0.9084\n",
      "Epoch 36/50\n",
      "55000/55000 [==============================] - 1s 10us/step - loss: 0.3274 - acc: 0.9088\n",
      "Epoch 37/50\n",
      "55000/55000 [==============================] - 1s 10us/step - loss: 0.3262 - acc: 0.9089\n",
      "Epoch 38/50\n",
      "55000/55000 [==============================] - 1s 11us/step - loss: 0.3250 - acc: 0.9096\n",
      "Epoch 39/50\n",
      "55000/55000 [==============================] - 1s 10us/step - loss: 0.3239 - acc: 0.9093\n",
      "Epoch 40/50\n",
      "55000/55000 [==============================] - 1s 11us/step - loss: 0.3228 - acc: 0.9100\n",
      "Epoch 41/50\n",
      "55000/55000 [==============================] - 1s 11us/step - loss: 0.3217 - acc: 0.9103\n",
      "Epoch 42/50\n",
      "55000/55000 [==============================] - 1s 11us/step - loss: 0.3207 - acc: 0.9105\n",
      "Epoch 43/50\n",
      "55000/55000 [==============================] - 1s 11us/step - loss: 0.3197 - acc: 0.9109\n",
      "Epoch 44/50\n",
      "55000/55000 [==============================] - 1s 11us/step - loss: 0.3187 - acc: 0.9112\n",
      "Epoch 45/50\n",
      "55000/55000 [==============================] - 1s 11us/step - loss: 0.3178 - acc: 0.9113\n",
      "Epoch 46/50\n",
      "55000/55000 [==============================] - 1s 11us/step - loss: 0.3169 - acc: 0.9115\n",
      "Epoch 47/50\n",
      "55000/55000 [==============================] - 1s 11us/step - loss: 0.3161 - acc: 0.9118\n",
      "Epoch 48/50\n",
      "55000/55000 [==============================] - 1s 11us/step - loss: 0.3152 - acc: 0.9123\n",
      "Epoch 49/50\n",
      "55000/55000 [==============================] - 1s 11us/step - loss: 0.3144 - acc: 0.9125\n",
      "Epoch 50/50\n",
      "55000/55000 [==============================] - 1s 11us/step - loss: 0.3136 - acc: 0.9127\n"
     ]
    },
    {
     "data": {
      "text/plain": [
       "<keras.callbacks.History at 0x1c2a4b8710>"
      ]
     },
     "execution_count": 63,
     "metadata": {},
     "output_type": "execute_result"
    }
   ],
   "source": [
    "model.fit(x=data.train.images,\n",
    "          y=np_utils.to_categorical(data.train.labels),\n",
    "          epochs=50, batch_size=128)"
   ]
  },
  {
   "cell_type": "code",
   "execution_count": 87,
   "metadata": {
    "collapsed": true
   },
   "outputs": [],
   "source": [
    "logistics_weights = model.layers[0]"
   ]
  },
  {
   "cell_type": "code",
   "execution_count": 94,
   "metadata": {
    "collapsed": true
   },
   "outputs": [],
   "source": [
    "weights, biases = logistics_weights.get_weights()"
   ]
  },
  {
   "cell_type": "code",
   "execution_count": 95,
   "metadata": {},
   "outputs": [
    {
     "data": {
      "text/plain": [
       "array([[-0.00350744, -0.05278964, -0.01372985, ...,  0.02548406,\n",
       "         0.00518244, -0.0635209 ],\n",
       "       [ 0.07198936, -0.03822793,  0.05574665, ...,  0.01525251,\n",
       "         0.03462064, -0.01654595],\n",
       "       [-0.0109562 ,  0.01638054, -0.01580504, ..., -0.0366535 ,\n",
       "         0.02751941,  0.00389225],\n",
       "       ...,\n",
       "       [ 0.08175308,  0.07433303,  0.00209086, ...,  0.00827145,\n",
       "         0.00075066, -0.02746235],\n",
       "       [ 0.05340163,  0.07536889, -0.01460909, ..., -0.05635721,\n",
       "         0.03004786, -0.079626  ],\n",
       "       [-0.07446443,  0.01163238,  0.00180797, ...,  0.05974288,\n",
       "        -0.03268239,  0.01131237]], dtype=float32)"
      ]
     },
     "execution_count": 95,
     "metadata": {},
     "output_type": "execute_result"
    }
   ],
   "source": [
    "weights"
   ]
  },
  {
   "cell_type": "code",
   "execution_count": 97,
   "metadata": {},
   "outputs": [
    {
     "data": {
      "text/plain": [
       "array([-0.22786446,  0.28304377,  0.00651777, -0.1633409 ,  0.05108438,\n",
       "        0.76256347, -0.05410507,  0.39604208, -0.9101991 , -0.14374371],\n",
       "      dtype=float32)"
      ]
     },
     "execution_count": 97,
     "metadata": {},
     "output_type": "execute_result"
    }
   ],
   "source": [
    "biases"
   ]
  },
  {
   "cell_type": "code",
   "execution_count": 98,
   "metadata": {},
   "outputs": [
    {
     "data": {
      "text/plain": [
       "(array([  19,   64,  252, 1333, 3925, 1765,  401,   64,   14,    3]),\n",
       " array([-0.54481441, -0.42612247, -0.30743053, -0.18873859, -0.07004665,\n",
       "         0.04864529,  0.16733723,  0.28602917,  0.40472111,  0.52341304,\n",
       "         0.64210498]))"
      ]
     },
     "execution_count": 98,
     "metadata": {},
     "output_type": "execute_result"
    }
   ],
   "source": [
    "np.histogram(weights)"
   ]
  },
  {
   "cell_type": "code",
   "execution_count": 99,
   "metadata": {},
   "outputs": [
    {
     "data": {
      "text/plain": [
       "<matplotlib.image.AxesImage at 0x1c26c66278>"
      ]
     },
     "execution_count": 99,
     "metadata": {},
     "output_type": "execute_result"
    },
    {
     "data": {
      "image/png": "[encoded data removed]",
      "text/plain": [
       "<matplotlib.figure.Figure at 0x1c27620f60>"
      ]
     },
     "metadata": {},
     "output_type": "display_data"
    }
   ],
   "source": [
    "temp = weights[:,3].reshape((28, 28))\n",
    "\n",
    "plt.imshow(temp, vmin=-0.5, vmax=0.5 ,interpolation='nearest', cmap='seismic')"
   ]
  },
  {
   "cell_type": "code",
   "execution_count": 66,
   "metadata": {},
   "outputs": [
    {
     "data": {
      "text/plain": [
       "array([[ 1.79416463e-02, -9.01637450e-02,  2.23993473e-02,\n",
       "         2.37304643e-02,  1.02134943e-01,  8.70887004e-03,\n",
       "        -8.09962600e-02, -7.70021826e-02, -8.09983816e-03,\n",
       "        -6.05262369e-02,  3.96910645e-02,  1.43318847e-02,\n",
       "        -2.79372334e-01, -3.99402767e-01, -6.89866915e-02,\n",
       "         6.27724826e-02,  2.76623219e-02, -4.84653264e-02,\n",
       "         1.04139909e-01, -8.96064416e-02,  5.56727983e-02,\n",
       "        -5.60635477e-02, -5.00113480e-02, -8.20378289e-02,\n",
       "        -1.03063993e-01,  1.16132917e-02, -1.06954403e-01,\n",
       "         4.66568917e-02],\n",
       "       [ 3.58389057e-02,  3.07331868e-02, -4.43173945e-02,\n",
       "        -2.99654454e-02,  3.08706556e-02,  5.25378548e-02,\n",
       "        -7.95831308e-02, -1.81700721e-01, -4.26226199e-01,\n",
       "        -5.58138609e-01, -3.74900907e-01, -2.14826703e+00,\n",
       "        -2.72775292e+00, -2.27522540e+00, -1.32497454e+00,\n",
       "        -5.66488743e+00, -5.85242939e+00, -5.63706875e+00,\n",
       "        -8.00143301e-01, -9.27116156e-01, -2.93789053e+00,\n",
       "        -1.32079434e+00, -7.23743320e-01, -7.50289917e-01,\n",
       "        -1.09619543e-01,  9.16944966e-02, -3.78361605e-02,\n",
       "         7.67578110e-02],\n",
       "       [ 4.27705906e-02,  9.63420048e-02, -1.75940562e-02,\n",
       "        -2.34091902e+00, -1.59984601e+00, -4.69551794e-02,\n",
       "        -8.74492750e-02, -8.44751775e-01, -2.05125123e-01,\n",
       "        -5.93644142e-01, -1.95460331e+00, -2.21372819e+00,\n",
       "        -2.70012403e+00, -2.12058878e+00, -1.10333014e+00,\n",
       "        -1.26583898e+00, -5.69057798e+00, -3.15084052e+00,\n",
       "        -4.53116322e+00, -3.08164120e+00, -1.99957931e+00,\n",
       "        -2.03502965e+00, -6.12927556e-01, -6.10720992e-01,\n",
       "        -4.62465845e-02, -6.58065826e-02, -2.84126084e-02,\n",
       "        -4.73177880e-02],\n",
       "       [-7.22816400e-03, -1.68244801e-02,  1.57512669e-02,\n",
       "        -3.66391563e+00, -2.45349479e+00, -2.43753529e+00,\n",
       "        -2.62157273e+00, -1.24311984e+00, -8.59783947e-01,\n",
       "        -1.90153289e+00, -5.00450039e+00, -5.52878141e+00,\n",
       "        -7.37927485e+00, -8.95195293e+00, -8.83917141e+00,\n",
       "        -8.97294426e+00, -9.58673000e+00, -4.92755556e+00,\n",
       "         2.92665219e+00, -3.22910976e+00, -7.15256166e+00,\n",
       "        -3.65336633e+00, -5.87969065e-01, -3.68938953e-01,\n",
       "        -3.93966466e-01, -1.65059224e-01, -7.79534578e-02,\n",
       "        -3.62348817e-02],\n",
       "       [ 1.79756507e-02, -6.49553537e-02, -1.30344078e-01,\n",
       "        -1.10435259e+00, -1.15774655e+00, -3.03033733e+00,\n",
       "        -3.29815125e+00, -7.44849253e+00, -7.93201590e+00,\n",
       "        -1.70199394e+01,  1.14388168e+00, -2.25217938e+00,\n",
       "        -8.62304211e-01,  5.98603308e-01, -9.81466293e-01,\n",
       "        -7.61321113e-02, -9.23004389e-01, -1.92281961e-01,\n",
       "        -2.34648392e-01, -2.87100387e+00,  2.53110814e+00,\n",
       "        -9.11380959e+00, -9.51877499e+00, -1.73024321e+00,\n",
       "        -5.11651814e-01, -2.31484070e-01, -9.90564644e-01,\n",
       "        -5.06257892e-01],\n",
       "       [ 8.05085897e-02, -7.55039789e-03, -5.24632186e-02,\n",
       "        -6.44480562e+00, -2.72234654e+00, -3.76610041e+00,\n",
       "        -6.17188597e+00, -6.26324654e-01,  6.73086941e-01,\n",
       "        -7.61956453e-01, -9.89275694e-01,  1.32067585e+00,\n",
       "        -1.11465797e-01,  7.07135320e-01, -8.44210207e-01,\n",
       "         9.06050384e-01, -9.84338343e-01, -5.42478502e-01,\n",
       "         1.20589107e-01, -3.35210055e-01, -3.56917679e-01,\n",
       "        -1.36395946e-01, -1.43673587e+00, -6.95751905e+00,\n",
       "        -1.25266113e+01, -6.29550886e+00, -1.02525508e+00,\n",
       "        -1.20991677e-01],\n",
       "       [-3.26292627e-02, -1.92874658e+00, -3.30883288e+00,\n",
       "        -7.19135046e+00,  1.04928946e+00, -7.97694921e+00,\n",
       "         6.05470538e-01, -1.00362015e+00,  1.15918718e-01,\n",
       "         7.85499573e-01, -5.67418575e-01,  5.07308304e-01,\n",
       "         1.17345773e-01,  4.06669140e-01,  6.70759022e-01,\n",
       "         2.20859032e-02,  6.06878817e-01,  7.52177954e-01,\n",
       "         3.46175849e-01,  1.24799095e-01,  1.43631130e-01,\n",
       "         7.06704333e-02, -2.94967294e-01, -1.72055721e-01,\n",
       "        -1.50863349e+00,  1.27745259e+00, -5.67985821e+00,\n",
       "        -3.37227315e-01],\n",
       "       [ 4.81490865e-02, -7.72609806e+00, -3.52366996e+00,\n",
       "         2.59785795e+00, -3.12654567e+00, -3.79453778e+00,\n",
       "        -1.17584448e-02, -7.63099968e-01, -4.25609171e-01,\n",
       "        -3.32607776e-01,  3.65276411e-02,  4.21521217e-02,\n",
       "         3.97713482e-01,  7.42467582e-01,  1.26527384e-01,\n",
       "         6.98347569e-01,  5.10430872e-01,  2.15085417e-01,\n",
       "         1.11225173e-01, -4.42146994e-02,  8.18548203e-01,\n",
       "        -1.15131244e-01, -6.14409268e-01,  5.23138046e-01,\n",
       "        -1.99764919e+00,  3.72882426e-01, -8.93925858e+00,\n",
       "        -1.76988685e+00],\n",
       "       [-7.66647768e+00, -9.31464005e+00, -7.99692917e+00,\n",
       "        -6.04086065e+00, -4.23096597e-01,  1.26102579e+00,\n",
       "         2.18698502e-01, -9.32547092e-01,  1.12894964e+00,\n",
       "        -1.05604522e-01, -2.32998431e-01, -3.84607650e-02,\n",
       "        -6.67267025e-01,  3.26435149e-01,  5.55892348e-01,\n",
       "         3.98096025e-01,  3.48772734e-01, -1.70142785e-01,\n",
       "         3.73731107e-01,  7.41870254e-02, -6.56103909e-01,\n",
       "         7.58658886e-01, -5.65889657e-01, -6.74395263e-01,\n",
       "        -3.66075039e-02, -1.83050489e+00, -7.93798876e+00,\n",
       "        -2.50407410e+00],\n",
       "       [-9.01145160e-01, -2.85490680e+00, -8.43842566e-01,\n",
       "         9.84457195e-01, -2.18598437e+00, -6.49435580e-01,\n",
       "         5.51410735e-01,  1.15732811e-01,  4.30792198e-03,\n",
       "        -9.20292139e-02,  2.82985240e-01,  3.04258883e-01,\n",
       "         2.65433639e-01,  6.23337068e-02, -1.10109039e-01,\n",
       "         5.85540652e-01, -3.74843150e-01,  3.08840364e-01,\n",
       "         6.69880882e-02, -9.03776661e-03,  1.69141471e-01,\n",
       "        -1.03489423e+00,  1.40396789e-01, -9.20844495e-01,\n",
       "        -6.41324878e-01, -2.48753881e+00, -1.17227230e+01,\n",
       "        -4.99685669e+00],\n",
       "       [-1.04478836e+00, -2.37281322e+00, -1.00227785e+01,\n",
       "         1.16984606e+00, -2.24924516e-02,  3.56804281e-02,\n",
       "         6.39217377e-01, -1.52295649e-01, -1.27852261e-01,\n",
       "         2.63878614e-01, -8.58451426e-02, -2.31692880e-01,\n",
       "         1.88183352e-01, -6.86032116e-01,  3.13489102e-02,\n",
       "        -2.01658890e-01,  1.06454402e-01, -3.53129864e-01,\n",
       "        -8.95964876e-02,  1.04176410e-01, -1.96425654e-02,\n",
       "        -1.15515515e-01,  2.00216219e-01,  1.89163804e-01,\n",
       "        -2.64735508e+00,  3.23090386e+00, -3.96290946e+00,\n",
       "        -4.63942051e+00],\n",
       "       [-6.63728356e-01, -8.49819946e+00, -2.86051369e+00,\n",
       "        -6.59316361e-01, -8.60105157e-01,  6.42370880e-02,\n",
       "        -1.72585830e-01,  5.13055861e-01,  9.51962709e-01,\n",
       "         8.55981857e-02,  7.60536790e-01,  4.37893450e-01,\n",
       "         7.20872521e-01, -5.99561185e-02, -8.11420158e-02,\n",
       "         3.39307100e-01,  6.65881336e-01,  7.32141793e-01,\n",
       "         6.14662111e-01, -1.33932784e-01,  9.58980024e-01,\n",
       "        -1.98323280e-01,  9.37841892e-01, -2.10799146e+00,\n",
       "        -1.42228401e+00, -6.54672027e-01,  7.73631096e-01,\n",
       "        -1.48886144e+00],\n",
       "       [-1.34579092e-01, -4.98491859e+00, -5.18725030e-02,\n",
       "        -4.26307470e-01,  1.86180115e-01,  9.44299847e-02,\n",
       "         1.03242028e+00,  5.14661660e-03,  2.48544693e-01,\n",
       "         6.64256573e-01, -3.95278074e-02,  3.55196506e-01,\n",
       "        -7.57710516e-01, -6.44653141e-02,  1.49171054e-01,\n",
       "         2.58575737e-01,  2.67886251e-01,  1.74229130e-01,\n",
       "         7.18277991e-01,  4.91084397e-01,  1.46941736e-01,\n",
       "         1.01479006e+00,  7.38121644e-02,  3.01832628e+00,\n",
       "        -1.89596057e+00, -1.43191195e+01, -5.60024738e+00,\n",
       "        -2.12843013e+00],\n",
       "       [-6.89256489e-01, -3.44179130e+00, -1.08530200e+00,\n",
       "        -2.08227706e+00,  2.31926179e+00,  5.55743635e-01,\n",
       "        -1.59164712e-01,  7.93353379e-01,  5.27002573e-01,\n",
       "        -1.75602004e-01,  1.85831070e-01,  8.48615542e-02,\n",
       "        -4.73247021e-01,  1.34017959e-01,  4.03254807e-01,\n",
       "         4.40086693e-01,  6.81293309e-01,  3.00599039e-01,\n",
       "         6.52509034e-02,  5.51373303e-01,  7.70714700e-01,\n",
       "         4.46462184e-01,  3.24428588e-01, -1.25960660e+00,\n",
       "        -1.56804883e+00, -8.68694782e+00, -4.02307606e+00,\n",
       "        -2.42782608e-01],\n",
       "       [-5.43545198e+00, -1.77112544e+00, -2.37629938e+00,\n",
       "         9.51695681e-01,  2.19611272e-01,  2.85731684e-02,\n",
       "         5.65346956e-01, -1.26737669e-01, -2.67183006e-01,\n",
       "         5.66304922e-02,  6.38506189e-02, -3.98295261e-02,\n",
       "        -4.40099686e-01,  2.85990506e-01, -3.52846682e-02,\n",
       "         8.32776129e-02,  5.18613160e-01,  4.52972353e-01,\n",
       "         4.16059673e-01, -2.37273071e-02,  3.65824372e-01,\n",
       "        -2.40938291e-01,  3.08917314e-01, -1.63910007e+00,\n",
       "        -4.89845943e+00, -1.04747887e+01, -1.91308987e+00,\n",
       "        -1.23835929e-01],\n",
       "       [-5.16254902e+00,  1.95331639e-03, -7.24709129e+00,\n",
       "         1.99795425e+00, -1.16121209e+00,  3.66442561e-01,\n",
       "         9.93180573e-02,  1.97953001e-01,  1.11560792e-01,\n",
       "        -1.60115838e-01,  1.04731344e-01,  2.46574953e-01,\n",
       "        -4.44701165e-01, -6.89954758e-02, -4.47868645e-01,\n",
       "         5.49187064e-01,  1.23703413e-01,  4.17286605e-01,\n",
       "        -8.27887580e-02,  2.92963386e-01,  2.03169718e-01,\n",
       "        -4.08802003e-01,  3.33281845e-01,  9.08503294e-01,\n",
       "        -3.57319927e+00, -9.06916618e+00, -1.91159129e+00,\n",
       "        -7.62202084e-01],\n",
       "       [-3.43707275e+00, -9.36813951e-01, -2.97415066e+00,\n",
       "        -1.83623493e+00, -1.00820802e-01, -2.22310564e-03,\n",
       "        -5.09244502e-01, -3.14029396e-01,  4.88779157e-01,\n",
       "        -7.77545810e-01,  1.64342955e-01,  1.64205000e-01,\n",
       "        -1.19479857e-01, -1.87279224e-01, -7.91927148e-03,\n",
       "        -1.22944452e-02,  3.28504801e-01,  1.33939564e-01,\n",
       "         3.52594763e-01, -1.61956981e-01,  3.13407660e-01,\n",
       "        -1.04162860e+00,  4.97928381e-01, -1.21551847e+00,\n",
       "        -3.36933827e+00, -7.46044397e+00, -2.53673983e+00,\n",
       "        -6.17472649e+00],\n",
       "       [-5.40841790e-03, -3.74348807e+00, -6.89058590e+00,\n",
       "         1.62604854e-01, -1.55105460e+00,  3.66967410e-01,\n",
       "        -1.52403581e+00,  3.24178010e-01,  4.17228818e-01,\n",
       "        -2.84666151e-01,  2.67384678e-01, -4.27779287e-01,\n",
       "         4.14761037e-01,  1.28594026e-01, -2.37626538e-01,\n",
       "         4.70327973e-01, -1.42462447e-01,  1.49001956e-01,\n",
       "         1.97486393e-02, -3.77401054e-01, -3.97225499e-01,\n",
       "         6.00854866e-02, -1.22839737e+00,  4.02122736e-01,\n",
       "        -1.98852479e+00,  7.19357252e-01, -3.00652432e+00,\n",
       "        -7.59207535e+00],\n",
       "       [ 4.26475191e+00, -2.56566453e+00, -6.83658361e+00,\n",
       "        -8.95055681e-02, -8.68439019e-01, -1.09838164e+00,\n",
       "         4.64913726e-01, -2.33556747e-01, -3.85057300e-01,\n",
       "        -3.81051838e-01,  6.37190998e-01,  6.19889975e-01,\n",
       "        -1.04161978e+00, -3.02913576e-01,  4.74376529e-01,\n",
       "         5.49029298e-02,  3.77888009e-02, -8.69835317e-02,\n",
       "        -2.29634091e-01, -4.48363841e-01,  3.49165350e-01,\n",
       "        -1.69501286e-02, -4.94876325e-01, -1.61809695e+00,\n",
       "        -4.57340193e+00,  3.30754846e-01, -5.20144510e+00,\n",
       "        -2.85456032e-01],\n",
       "       [ 4.28436585e-02, -7.41694069e+00, -9.10838413e+00,\n",
       "        -1.07792616e+00, -1.69633436e+00, -6.13565147e-01,\n",
       "         8.63131344e-01,  3.32431525e-01, -1.73083901e-01,\n",
       "        -8.28573465e-01, -3.23166192e-01, -6.87850595e-01,\n",
       "         5.51393330e-01, -4.54697341e-01, -4.27484334e-01,\n",
       "        -3.19398105e-01, -1.54730305e-01, -6.28087997e-01,\n",
       "        -5.84876724e-02,  4.86261964e-01, -2.67044544e-01,\n",
       "        -1.78339675e-01, -9.28294718e-01, -3.65497202e-01,\n",
       "        -4.93211317e+00, -9.99369800e-01, -6.07097197e+00,\n",
       "         2.21337918e-02],\n",
       "       [-2.10798550e-02, -4.79668856e+00,  1.59129098e-01,\n",
       "        -6.17204905e+00, -5.56367457e-01,  1.25967276e+00,\n",
       "        -1.59359348e+00, -1.67774057e+00,  5.35785735e-01,\n",
       "        -1.34337056e+00, -9.14382756e-01, -1.10968101e+00,\n",
       "        -1.28200710e+00, -4.04833965e-02, -1.07951805e-01,\n",
       "        -3.49416941e-01, -1.03236854e-01,  1.10150374e-01,\n",
       "        -6.20321810e-01,  1.35283783e-01, -1.16740155e+00,\n",
       "        -2.10201764e+00,  6.25243410e-02, -4.94207799e-01,\n",
       "         2.31301808e+00,  3.57981467e+00, -7.81687164e+00,\n",
       "        -4.10475247e-02],\n",
       "       [-1.92029104e-01, -5.40786076e+00, -9.01392221e-01,\n",
       "        -1.29795420e+00, -2.70728636e+00,  2.18369913e+00,\n",
       "         3.05919468e-01, -9.33250725e-01, -8.09337139e-01,\n",
       "         8.88133347e-02, -2.99606949e-01, -8.79256368e-01,\n",
       "        -2.47207999e-01, -8.89782727e-01, -7.13032663e-01,\n",
       "        -7.29500115e-01, -2.29488298e-01, -7.47485876e-01,\n",
       "        -6.66487813e-01, -2.99335688e-01, -1.88633472e-01,\n",
       "         2.13356757e+00, -1.60638344e+00, -2.67898655e+00,\n",
       "         1.20673668e+00, -4.30909538e+00, -9.20400333e+00,\n",
       "         1.10588476e-01],\n",
       "       [-2.51565039e-01, -1.21353336e-01, -7.41332102e+00,\n",
       "         7.74891198e-01,  2.15320182e+00, -2.73094964e+00,\n",
       "        -3.53475869e-01, -7.29867294e-02,  3.64459187e-01,\n",
       "        -7.68984318e-01,  5.14234006e-01,  9.30947214e-02,\n",
       "         9.44140404e-02, -4.01101768e-01,  5.66885352e-01,\n",
       "        -6.06504977e-01, -1.71476871e-01, -2.31668487e-01,\n",
       "        -1.64110303e-01, -9.97849047e-01, -5.75320244e-01,\n",
       "        -1.32823503e+00, -3.13966841e-01,  1.35217822e+00,\n",
       "         1.84741306e+00,  2.49762177e+00, -1.12635164e+01,\n",
       "         1.03271969e-01],\n",
       "       [ 3.73932123e-02,  4.40422297e-02, -7.27508926e+00,\n",
       "         3.84253979e+00, -4.61791706e+00, -1.61554766e+00,\n",
       "        -3.62888157e-01, -5.69376171e-01,  1.24130242e-01,\n",
       "        -6.29599154e-01, -2.85268133e-03, -4.68283534e-01,\n",
       "        -1.26761615e-01, -2.35546589e-01,  9.67075154e-02,\n",
       "        -3.31340402e-01, -1.85884923e-01, -8.70752484e-02,\n",
       "        -9.92346108e-02,  3.90150249e-01, -3.00104052e-01,\n",
       "        -1.27970070e-01,  1.62846386e+00, -7.76276231e-01,\n",
       "        -3.78681839e-01, -3.10264015e+00, -7.92578745e+00,\n",
       "        -6.05277009e-02],\n",
       "       [-2.67146491e-02,  3.14780395e-03, -6.86442041e+00,\n",
       "        -1.35982714e+01,  2.40491056e+00,  1.00589645e+00,\n",
       "        -3.72518867e-01,  4.60003763e-01, -3.74874026e-01,\n",
       "        -4.37429070e-01, -6.75655603e-02, -9.27568078e-02,\n",
       "        -2.83633173e-01, -3.01487356e-01, -1.04944015e+00,\n",
       "         1.84228614e-01, -2.93080330e-01, -1.82276905e-01,\n",
       "        -1.45941034e-01,  5.76969571e-02,  7.25581586e-01,\n",
       "        -1.15897715e+00,  7.56920159e-01,  1.39429843e+00,\n",
       "        -7.32025445e-01, -4.54928303e+00, -2.28550696e+00,\n",
       "        -2.02849470e-02],\n",
       "       [ 7.03011677e-02,  1.01145208e-01,  6.32833529e+00,\n",
       "        -8.25026512e+00, -2.93151307e+00,  2.66916490e+00,\n",
       "        -6.96816444e-01, -1.03597298e-01,  6.86469436e-01,\n",
       "         3.66421938e-02,  3.90897095e-01,  1.93047047e-01,\n",
       "        -1.19881138e-01,  2.49379113e-01,  8.41371596e-01,\n",
       "        -3.12735915e-01,  3.29716086e-01, -4.80662845e-03,\n",
       "         3.65853935e-01,  7.02017397e-02,  5.52255571e-01,\n",
       "         1.74062574e+00, -8.39152336e-01,  3.30510736e-01,\n",
       "        -2.12044573e+00,  3.91290331e+00, -2.36412454e+00,\n",
       "         2.46567130e-02],\n",
       "       [-9.14830714e-02,  3.59667055e-02, -4.11398858e-02,\n",
       "         5.50020635e-02,  1.99643314e+00,  1.33723691e-01,\n",
       "         8.48395050e-01,  2.34944296e+00,  6.15590155e-01,\n",
       "         1.10624683e+00,  6.91915274e-01,  4.97161031e-01,\n",
       "         8.36711407e-01,  6.25017822e-01,  1.01605678e+00,\n",
       "         3.06379408e-01,  5.11699080e-01,  2.43853077e-01,\n",
       "         7.82402813e-01,  2.97960132e-01,  8.33565950e-01,\n",
       "         2.32639238e-01, -9.36718106e-01,  2.64909565e-01,\n",
       "         5.32917070e+00, -1.55981278e+00, -3.04565616e-02,\n",
       "         9.71721392e-03],\n",
       "       [-3.07357055e-03,  8.95563886e-03, -6.28360137e-02,\n",
       "        -6.60610721e-02, -1.88291693e+00, -4.78617334e+00,\n",
       "         4.75328654e-01,  1.49749744e+00, -1.15396976e+00,\n",
       "         9.68464553e-01,  1.89183742e-01, -2.52069592e-01,\n",
       "         7.14894176e-01, -1.56534147e+00,  1.30048907e+00,\n",
       "        -6.72697484e-01,  1.75952804e+00, -2.58334446e+00,\n",
       "         1.36404550e+00, -1.64876080e+00,  2.87135482e-01,\n",
       "        -3.44566494e-01,  5.48062146e-01, -9.02934170e+00,\n",
       "         7.60031343e-02,  3.15389670e-02, -8.38675909e-03,\n",
       "         7.46258125e-02]], dtype=float32)"
      ]
     },
     "execution_count": 66,
     "metadata": {},
     "output_type": "execute_result"
    }
   ],
   "source": [
    "temp"
   ]
  },
  {
   "cell_type": "code",
   "execution_count": 65,
   "metadata": {
    "collapsed": true
   },
   "outputs": [],
   "source": [
    "from keras.models import Sequential\n",
    "from keras.layers import Dense, InputLayer, MaxPooling2D\n",
    "from keras.optimizers import Adam,SGD\n",
    "from keras.losses import categorical_crossentropy\n",
    "from keras.utils import np_utils\n",
    "from keras.initializers import glorot_normal"
   ]
  },
  {
   "cell_type": "code",
   "execution_count": 66,
   "metadata": {
    "collapsed": true
   },
   "outputs": [],
   "source": [
    "\n",
    "model = Sequential()\n",
    "\n",
    "# Add an input layer which is similar to a feed_dict in TensorFlow.\n",
    "# Note that the input-shape must be a tuple containing the image-size.\n",
    "model.add(InputLayer(input_shape=(784,)))\n",
    "\n",
    "# The input is a flattened array with 784 elements,\n",
    "# but the convolutional layers expect images with shape (28, 28, 1)\n",
    "model.add(Reshape((28, 28, 1)))\n",
    "\n",
    "# First convolutional layer with ReLU-activation and max-pooling.\n",
    "model.add(Conv2D(kernel_size=5, strides=1, filters=16, padding='same',\n",
    "                 activation='relu', name='layer_conv1'))\n",
    "model.add(MaxPooling2D(pool_size=2, strides=2))\n",
    "\n",
    "# Second convolutional layer with ReLU-activation and max-pooling.\n",
    "model.add(Conv2D(kernel_size=5, strides=1, filters=36, padding='same',\n",
    "                 activation='relu', name='layer_conv2'))\n",
    "model.add(MaxPooling2D(pool_size=2, strides=2))\n",
    "\n",
    "# Flatten the 4-rank output of the convolutional layers\n",
    "# to 2-rank that can be input to a fully-connected / dense layer.\n",
    "model.add(Flatten())\n",
    "#   x \\in (1,8000)  输入X\n",
    "\n",
    "\n",
    "#   W \\in (8000, 128) 参数矩阵  压缩\n",
    "# First fully-connected / dense layer with ReLU-activation.\n",
    "model.add(Dense(128, activation='relu'))   # 拿它做逻辑回归\n",
    "\n",
    "#    x \\in (1,128)\n",
    "\n",
    "#      x1b1 + x2b2 ... xpbp   -->  exp(z)\n",
    "\n",
    "# Last fully-connected / dense layer with softmax-activation\n",
    "# for use in classification.\n",
    "model.add(Dense(10, activation='softmax'))"
   ]
  },
  {
   "cell_type": "code",
   "execution_count": 67,
   "metadata": {
    "collapsed": true
   },
   "outputs": [],
   "source": [
    "from keras.optimizers import Adam\n",
    "\n",
    "adam = Adam(lr=0.0025, decay=0.0)"
   ]
  },
  {
   "cell_type": "code",
   "execution_count": 68,
   "metadata": {
    "collapsed": true
   },
   "outputs": [],
   "source": [
    "model.compile(optimizer=adam,\n",
    "              loss='categorical_crossentropy',\n",
    "              metrics=['accuracy'])"
   ]
  },
  {
   "cell_type": "code",
   "execution_count": 69,
   "metadata": {},
   "outputs": [
    {
     "name": "stdout",
     "output_type": "stream",
     "text": [
      "Epoch 1/1\n",
      "55000/55000 [==============================] - 33s 608us/step - loss: 0.1528 - acc: 0.9529\n"
     ]
    },
    {
     "data": {
      "text/plain": [
       "<keras.callbacks.History at 0x1c2a751f60>"
      ]
     },
     "execution_count": 69,
     "metadata": {},
     "output_type": "execute_result"
    }
   ],
   "source": [
    "model.fit(x=data.train.images,\n",
    "          y=np_utils.to_categorical(data.train.labels),\n",
    "          epochs=1, batch_size=128)"
   ]
  },
  {
   "cell_type": "code",
   "execution_count": 70,
   "metadata": {},
   "outputs": [
    {
     "name": "stdout",
     "output_type": "stream",
     "text": [
      "10000/10000 [==============================] - 3s 257us/step\n"
     ]
    }
   ],
   "source": [
    "result = model.evaluate(x=data.test.images,\n",
    "                        y=np_utils.to_categorical(data.test.labels),)"
   ]
  },
  {
   "cell_type": "code",
   "execution_count": 71,
   "metadata": {},
   "outputs": [
    {
     "data": {
      "text/plain": [
       "[0.03850764210985508, 0.9877]"
      ]
     },
     "execution_count": 71,
     "metadata": {},
     "output_type": "execute_result"
    }
   ],
   "source": [
    "result"
   ]
  },
  {
   "cell_type": "code",
   "execution_count": 72,
   "metadata": {},
   "outputs": [
    {
     "name": "stdout",
     "output_type": "stream",
     "text": [
      "_________________________________________________________________\n",
      "Layer (type)                 Output Shape              Param #   \n",
      "=================================================================\n",
      "reshape_2 (Reshape)          (None, 28, 28, 1)         0         \n",
      "_________________________________________________________________\n",
      "layer_conv1 (Conv2D)         (None, 28, 28, 16)        416       \n",
      "_________________________________________________________________\n",
      "max_pooling2d_1 (MaxPooling2 (None, 14, 14, 16)        0         \n",
      "_________________________________________________________________\n",
      "layer_conv2 (Conv2D)         (None, 14, 14, 36)        14436     \n",
      "_________________________________________________________________\n",
      "max_pooling2d_2 (MaxPooling2 (None, 7, 7, 36)          0         \n",
      "_________________________________________________________________\n",
      "flatten_1 (Flatten)          (None, 1764)              0         \n",
      "_________________________________________________________________\n",
      "dense_7 (Dense)              (None, 128)               225920    \n",
      "_________________________________________________________________\n",
      "dense_8 (Dense)              (None, 10)                1290      \n",
      "=================================================================\n",
      "Total params: 242,062\n",
      "Trainable params: 242,062\n",
      "Non-trainable params: 0\n",
      "_________________________________________________________________\n"
     ]
    }
   ],
   "source": [
    "model.summary()"
   ]
  },
  {
   "cell_type": "code",
   "execution_count": 121,
   "metadata": {
    "collapsed": true
   },
   "outputs": [],
   "source": [
    "layer_input = model.layers[0]"
   ]
  },
  {
   "cell_type": "code",
   "execution_count": 123,
   "metadata": {},
   "outputs": [
    {
     "data": {
      "text/plain": [
       "<keras.layers.convolutional.Conv2D at 0x1c2796e208>"
      ]
     },
     "execution_count": 123,
     "metadata": {},
     "output_type": "execute_result"
    }
   ],
   "source": [
    "layer_conv1 = model.layers[1]\n",
    "layer_conv1"
   ]
  },
  {
   "cell_type": "code",
   "execution_count": 124,
   "metadata": {
    "collapsed": true
   },
   "outputs": [],
   "source": [
    "weights_conv1 = layer_conv1.get_weights()[0]"
   ]
  },
  {
   "cell_type": "code",
   "execution_count": 125,
   "metadata": {},
   "outputs": [
    {
     "data": {
      "text/plain": [
       "(5, 5, 1, 16)"
      ]
     },
     "execution_count": 125,
     "metadata": {},
     "output_type": "execute_result"
    }
   ],
   "source": [
    "weights_conv1.shape"
   ]
  },
  {
   "cell_type": "code",
   "execution_count": 126,
   "metadata": {
    "collapsed": true
   },
   "outputs": [],
   "source": [
    "def plot_conv_weights(weights, input_channel=0):\n",
    "    # Get the lowest and highest values for the weights.\n",
    "    # This is used to correct the colour intensity across\n",
    "    # the images so they can be compared with each other.\n",
    "    w_min = np.min(weights)\n",
    "    w_max = np.max(weights)\n",
    "\n",
    "    # Number of filters used in the conv. layer.\n",
    "    num_filters = weights.shape[3]\n",
    "\n",
    "    # Number of grids to plot.\n",
    "    # Rounded-up, square-root of the number of filters.\n",
    "    num_grids = math.ceil(math.sqrt(num_filters))\n",
    "    \n",
    "    # Create figure with a grid of sub-plots.\n",
    "    fig, axes = plt.subplots(num_grids, num_grids)\n",
    "\n",
    "    # Plot all the filter-weights.\n",
    "    for i, ax in enumerate(axes.flat):\n",
    "        # Only plot the valid filter-weights.\n",
    "        if i<num_filters:\n",
    "            # Get the weights for the i'th filter of the input channel.\n",
    "            # See new_conv_layer() for details on the format\n",
    "            # of this 4-dim tensor.\n",
    "            img = weights[:, :, input_channel, i]\n",
    "\n",
    "            # Plot image.\n",
    "            ax.imshow(img, vmin=w_min, vmax=w_max,\n",
    "                      interpolation='nearest', cmap='seismic')\n",
    "        \n",
    "        # Remove ticks from the plot.\n",
    "        ax.set_xticks([])\n",
    "        ax.set_yticks([])\n",
    "    \n",
    "    # Ensure the plot is shown correctly with multiple plots\n",
    "    # in a single Notebook cell.\n",
    "    plt.show()"
   ]
  },
  {
   "cell_type": "code",
   "execution_count": 127,
   "metadata": {},
   "outputs": [
    {
     "data": {
      "image/png": "[encoded data removed]",
      "text/plain": [
       "<matplotlib.figure.Figure at 0x1093b1978>"
      ]
     },
     "metadata": {},
     "output_type": "display_data"
    }
   ],
   "source": [
    "plot_conv_weights(weights_conv1)"
   ]
  },
  {
   "cell_type": "code",
   "execution_count": 128,
   "metadata": {
    "collapsed": true
   },
   "outputs": [],
   "source": [
    "def plot_conv_output(values):\n",
    "    # Number of filters used in the conv. layer.\n",
    "    num_filters = values.shape[3]\n",
    "\n",
    "    # Number of grids to plot.\n",
    "    # Rounded-up, square-root of the number of filters.\n",
    "    num_grids = math.ceil(math.sqrt(num_filters))\n",
    "    \n",
    "    # Create figure with a grid of sub-plots.\n",
    "    fig, axes = plt.subplots(num_grids, num_grids)\n",
    "\n",
    "    # Plot the output images of all the filters.\n",
    "    for i, ax in enumerate(axes.flat):\n",
    "        # Only plot the images for valid filters.\n",
    "        if i<num_filters:\n",
    "            # Get the output image of using the i'th filter.\n",
    "            img = values[0, :, :, i]\n",
    "\n",
    "            # Plot image.\n",
    "            ax.imshow(img, interpolation='nearest', cmap='binary')\n",
    "        \n",
    "        # Remove ticks from the plot.\n",
    "        ax.set_xticks([])\n",
    "        ax.set_yticks([])\n",
    "    \n",
    "    # Ensure the plot is shown correctly with multiple plots\n",
    "    # in a single Notebook cell.\n",
    "    plt.show()"
   ]
  },
  {
   "cell_type": "code",
   "execution_count": 129,
   "metadata": {
    "collapsed": true
   },
   "outputs": [],
   "source": [
    "from keras import backend as K"
   ]
  },
  {
   "cell_type": "code",
   "execution_count": 130,
   "metadata": {
    "collapsed": true
   },
   "outputs": [],
   "source": [
    "output_conv1 = K.function(inputs=[layer_input.input],\n",
    "                          outputs=[layer_conv1.output])"
   ]
  },
  {
   "cell_type": "code",
   "execution_count": 134,
   "metadata": {},
   "outputs": [
    {
     "data": {
      "text/plain": [
       "(1, 28, 28, 16)"
      ]
     },
     "execution_count": 134,
     "metadata": {},
     "output_type": "execute_result"
    }
   ],
   "source": [
    "layer_output1 = output_conv1([[data.train.images[2]]])[0]\n",
    "layer_output1.shape"
   ]
  },
  {
   "cell_type": "code",
   "execution_count": 135,
   "metadata": {},
   "outputs": [
    {
     "data": {
      "image/png": "[encoded data removed]",
      "text/plain": [
       "<matplotlib.figure.Figure at 0x1c20f91160>"
      ]
     },
     "metadata": {},
     "output_type": "display_data"
    }
   ],
   "source": [
    "plot_conv_output(values=layer_output1)"
   ]
  },
  {
   "cell_type": "code",
   "execution_count": 136,
   "metadata": {},
   "outputs": [
    {
     "data": {
      "text/plain": [
       "<matplotlib.image.AxesImage at 0x1c213e6e48>"
      ]
     },
     "execution_count": 136,
     "metadata": {},
     "output_type": "execute_result"
    },
    {
     "data": {
      "image/png": "[encoded data removed]",
      "text/plain": [
       "<matplotlib.figure.Figure at 0x1c2133cac8>"
      ]
     },
     "metadata": {},
     "output_type": "display_data"
    }
   ],
   "source": [
    "plt.imshow(data.train.images[2].reshape((28,28)), cmap='binary')"
   ]
  },
  {
   "cell_type": "code",
   "execution_count": null,
   "metadata": {
    "collapsed": true
   },
   "outputs": [],
   "source": []
  },
  {
   "cell_type": "code",
   "execution_count": null,
   "metadata": {
    "collapsed": true
   },
   "outputs": [],
   "source": []
  }
 ],
 "metadata": {
  "kernelspec": {
   "display_name": "Python 3",
   "language": "python",
   "name": "python3"
  },
  "language_info": {
   "codemirror_mode": {
    "name": "ipython",
    "version": 3
   },
   "file_extension": ".py",
   "mimetype": "text/x-python",
   "name": "python",
   "nbconvert_exporter": "python",
   "pygments_lexer": "ipython3",
   "version": "3.6.3"
  }
 },
 "nbformat": 4,
 "nbformat_minor": 2
}
